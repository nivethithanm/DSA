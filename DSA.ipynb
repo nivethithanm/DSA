{
  "nbformat": 4,
  "nbformat_minor": 0,
  "metadata": {
    "colab": {
      "provenance": []
    },
    "kernelspec": {
      "name": "python3",
      "display_name": "Python 3"
    },
    "language_info": {
      "name": "python"
    }
  },
  "cells": [
    {
      "cell_type": "markdown",
      "source": [
        "# BIT MANIPULATION"
      ],
      "metadata": {
        "id": "M5dCyLVxNrHW"
      }
    },
    {
      "cell_type": "code",
      "execution_count": null,
      "metadata": {
        "colab": {
          "base_uri": "https://localhost:8080/"
        },
        "id": "Qhnht7WgH-YN",
        "outputId": "af28d4a6-8d8f-4aad-af24-17e164f092d0"
      },
      "outputs": [
        {
          "output_type": "execute_result",
          "data": {
            "text/plain": [
              "3"
            ]
          },
          "metadata": {},
          "execution_count": 2
        }
      ],
      "source": [
        "# Number of 1 Bits\n",
        "# https://leetcode.com/problems/number-of-1-bits/description/\n",
        "\n",
        "def hammingWeight(n):\n",
        "    \"\"\"\n",
        "    :type n: int\n",
        "    :rtype: int\n",
        "    \"\"\"\n",
        "    count = 0\n",
        "    while n:\n",
        "        n = n & n-1\n",
        "        count += 1\n",
        "    return count\n",
        "\n",
        "hammingWeight(11)"
      ]
    },
    {
      "cell_type": "code",
      "source": [
        "# Base 7\n",
        "# https://leetcode.com/problems/base-7/\n",
        "\n",
        "def convertToBase7(num):\n",
        "    \"\"\"\n",
        "    :type num: int\n",
        "    :rtype: str\n",
        "    \"\"\"\n",
        "    if num == 0:\n",
        "        return '0'\n",
        "    base7num = 0\n",
        "    sign = (num != abs(num))\n",
        "    num = abs(num)\n",
        "    remainders = []\n",
        "    while num:\n",
        "        remainder = num % 7\n",
        "        remainders.append(str(remainder))\n",
        "        num = num // 7\n",
        "    remainders.reverse()\n",
        "    if sign:\n",
        "        return ''.join(['-'] + remainders)\n",
        "    return ''.join(remainders)\n",
        "\n",
        "convertToBase7(100)"
      ],
      "metadata": {
        "colab": {
          "base_uri": "https://localhost:8080/",
          "height": 36
        },
        "id": "Nl4jvvEVIFA1",
        "outputId": "613d98b5-43ab-43a1-994a-e2876b6455cc"
      },
      "execution_count": null,
      "outputs": [
        {
          "output_type": "execute_result",
          "data": {
            "text/plain": [
              "'202'"
            ],
            "application/vnd.google.colaboratory.intrinsic+json": {
              "type": "string"
            }
          },
          "metadata": {},
          "execution_count": 3
        }
      ]
    },
    {
      "cell_type": "code",
      "source": [
        "# Single Number\n",
        "# https://leetcode.com/problems/single-number/description/\n",
        "\n",
        "def singleNumber(nums):\n",
        "    \"\"\"\n",
        "    :type nums: List[int]\n",
        "    :rtype: int\n",
        "    \"\"\"\n",
        "    if not nums:\n",
        "        return\n",
        "    res = nums[0]\n",
        "    for i in range(1, len(nums)):\n",
        "        res = res ^ nums[i]\n",
        "\n",
        "    return res\n",
        "\n",
        "singleNumber([2, 2, 1, 1, 4])"
      ],
      "metadata": {
        "colab": {
          "base_uri": "https://localhost:8080/"
        },
        "id": "ywUxJ5lcL4-Y",
        "outputId": "0d4fcf3a-3faa-4fdc-9dd9-86a2732b3420"
      },
      "execution_count": null,
      "outputs": [
        {
          "output_type": "execute_result",
          "data": {
            "text/plain": [
              "4"
            ]
          },
          "metadata": {},
          "execution_count": 4
        }
      ]
    },
    {
      "cell_type": "code",
      "source": [
        "# Add Binary\n",
        "# https://leetcode.com/problems/add-binary/description/\n",
        "\n",
        "def addBinary(a, b):\n",
        "    \"\"\"\n",
        "    :type a: str\n",
        "    :type b: str\n",
        "    :rtype: str\n",
        "    \"\"\"\n",
        "    a, b = int(a, 2), int(b, 2)\n",
        "    while b:\n",
        "        a, b = a^b, (a&b)<<1\n",
        "\n",
        "    return bin(a)[2:]\n",
        "\n",
        "addBinary('111', '1')"
      ],
      "metadata": {
        "colab": {
          "base_uri": "https://localhost:8080/",
          "height": 36
        },
        "id": "PyD2MXBHMIiu",
        "outputId": "ce24cbae-224b-4028-e860-c8b1b18a8cae"
      },
      "execution_count": null,
      "outputs": [
        {
          "output_type": "execute_result",
          "data": {
            "text/plain": [
              "'1000'"
            ],
            "application/vnd.google.colaboratory.intrinsic+json": {
              "type": "string"
            }
          },
          "metadata": {},
          "execution_count": 5
        }
      ]
    },
    {
      "cell_type": "code",
      "source": [
        "# Missing Number\n",
        "# https://leetcode.com/problems/missing-number/description/\n",
        "\n",
        "def missingNumber(nums):\n",
        "    \"\"\"\n",
        "    :type nums: List[int]\n",
        "    :rtype: int\n",
        "    \"\"\"\n",
        "    res = len(nums)*(len(nums)+1)//2 - sum(nums)\n",
        "    return res\n",
        "\n",
        "missingNumber([3,0,1])"
      ],
      "metadata": {
        "colab": {
          "base_uri": "https://localhost:8080/"
        },
        "id": "_Q9APLqXNpGM",
        "outputId": "0be9674c-4919-4ee7-d348-b78018c1f35c"
      },
      "execution_count": null,
      "outputs": [
        {
          "output_type": "execute_result",
          "data": {
            "text/plain": [
              "2"
            ]
          },
          "metadata": {},
          "execution_count": 6
        }
      ]
    },
    {
      "cell_type": "code",
      "source": [
        "# Reverse Integer\n",
        "# https://leetcode.com/problems/reverse-integer/description/\n",
        "\n",
        "import math\n",
        "def reverse(x):\n",
        "    \"\"\"\n",
        "    :type x: int\n",
        "    :rtype: int\n",
        "    \"\"\"\n",
        "    MAX = 2**31-1\n",
        "    MIN = -(2**31)\n",
        "\n",
        "    res = 0\n",
        "    while x:\n",
        "        unit_digit = int(math.fmod(x, 10))\n",
        "        x = int(x/10)\n",
        "\n",
        "        if (res > int(MAX/10) or (res == int(MAX/10) and unit_digit > int(math.fmod(MAX, 10)))):\n",
        "            return 0\n",
        "        if (res < int(MIN/10) or (res == int(MIN/10) and unit_digit < int(math.fmod(MIN, 10)))):\n",
        "            return 0\n",
        "\n",
        "        res = 10*res + unit_digit\n",
        "\n",
        "    return res\n",
        "\n",
        "reverse(-120)"
      ],
      "metadata": {
        "colab": {
          "base_uri": "https://localhost:8080/"
        },
        "id": "JZNN5OiVZejJ",
        "outputId": "718892e6-c628-4d2e-f3ff-1d8132674efc"
      },
      "execution_count": null,
      "outputs": [
        {
          "output_type": "execute_result",
          "data": {
            "text/plain": [
              "-21"
            ]
          },
          "metadata": {},
          "execution_count": 10
        }
      ]
    },
    {
      "cell_type": "markdown",
      "source": [
        "# ARRAYS, HASHMAPS & SETS"
      ],
      "metadata": {
        "id": "e4k0Bs-VbO0D"
      }
    },
    {
      "cell_type": "code",
      "source": [
        "# Find Closest Number to Zero\n",
        "# https://leetcode.com/problems/find-closest-number-to-zero/description/\n",
        "# Time: O(n)\n",
        "# Space: O(1)\n",
        "\n",
        "def findClosestNumber(nums: list[int]) -> int:\n",
        "    least = float('inf')\n",
        "\n",
        "    for num in nums:\n",
        "        if abs(num) < abs(least):\n",
        "            least = num\n",
        "        elif abs(num) == abs(least):\n",
        "            if num > 0:\n",
        "                least = num\n",
        "\n",
        "    return least\n",
        "\n",
        "findClosestNumber(nums = [-4,-2,1,4,8])"
      ],
      "metadata": {
        "colab": {
          "base_uri": "https://localhost:8080/"
        },
        "id": "fIbew3sQ4pYd",
        "outputId": "f99e61e5-6b39-45a7-edb1-20d5f345b768"
      },
      "execution_count": null,
      "outputs": [
        {
          "output_type": "execute_result",
          "data": {
            "text/plain": [
              "1"
            ]
          },
          "metadata": {},
          "execution_count": 2
        }
      ]
    },
    {
      "cell_type": "code",
      "source": [
        "# Merge Strings Alternately\n",
        "# https://leetcode.com/problems/merge-strings-alternately/description/\n",
        "# Time: O(n)\n",
        "# Space: O(n)\n",
        "\n",
        "def mergeAlternately(word1: str, word2: str) -> str:\n",
        "    n1 = len(word1)\n",
        "    n2 = len(word2)\n",
        "\n",
        "    n = 2*min(n1, n2)\n",
        "    word = ''\n",
        "    for i in range(n):\n",
        "        if i%2 == 0:\n",
        "            word += word1[i//2]\n",
        "        else:\n",
        "            word += word2[i//2]\n",
        "\n",
        "    if n1 < n2:\n",
        "        word += word2[n//2:n2]\n",
        "    elif n1 > n2:\n",
        "        word += word1[n//2:n1]\n",
        "\n",
        "    return word\n",
        "\n",
        "mergeAlternately(word1 = \"abc\", word2 = \"pqr\")"
      ],
      "metadata": {
        "colab": {
          "base_uri": "https://localhost:8080/",
          "height": 36
        },
        "id": "yLwIQqwd6RVU",
        "outputId": "2b4de182-26d7-48f8-86fd-553855678607"
      },
      "execution_count": null,
      "outputs": [
        {
          "output_type": "execute_result",
          "data": {
            "text/plain": [
              "'apbqcr'"
            ],
            "application/vnd.google.colaboratory.intrinsic+json": {
              "type": "string"
            }
          },
          "metadata": {},
          "execution_count": 3
        }
      ]
    },
    {
      "cell_type": "code",
      "source": [
        "# Group Anagrams\n",
        "# https://leetcode.com/problems/group-anagrams/submissions/1550266382/\n",
        "\n",
        "from collections import defaultdict\n",
        "def groupAnagrams(strs: list[str]) -> list[list[str]]:\n",
        "    store = defaultdict(list)\n",
        "    for s in strs:\n",
        "        key = [0] * 26\n",
        "        for c in s:\n",
        "            key[ord(c)-ord('a')] += 1\n",
        "        key = tuple(key)\n",
        "        store[key].append(s)\n",
        "    return list(store.values())\n",
        "\n",
        "groupAnagrams([\"eat\",\"tea\",\"tan\",\"ate\",\"nat\",\"bat\"])"
      ],
      "metadata": {
        "colab": {
          "base_uri": "https://localhost:8080/"
        },
        "id": "cR64C0UgX1l4",
        "outputId": "d87cca78-fb02-4e29-8e21-d49fc0812eca"
      },
      "execution_count": null,
      "outputs": [
        {
          "output_type": "execute_result",
          "data": {
            "text/plain": [
              "[['eat', 'tea', 'ate'], ['tan', 'nat'], ['bat']]"
            ]
          },
          "metadata": {},
          "execution_count": 12
        }
      ]
    },
    {
      "cell_type": "code",
      "source": [
        "# Longest Consecutive Sequence\n",
        "# https://leetcode.com/problems/longest-consecutive-sequence/description/\n",
        "# Time: O(n)\n",
        "# Space: O(n)\n",
        "\n",
        "def longestConsecutive(nums: list[int]) -> int:\n",
        "    nums = set(nums)\n",
        "    max_len = 0\n",
        "    for num in nums:\n",
        "        # Does the number start a sequence\n",
        "        if num-1 not in nums:\n",
        "            curr_len = 1\n",
        "            j = num+1\n",
        "            while j in nums:\n",
        "                curr_len += 1\n",
        "                j += 1\n",
        "\n",
        "            max_len = max(curr_len, max_len)\n",
        "\n",
        "    return max_len\n",
        "\n",
        "longestConsecutive([100,4,200,1,3,2])"
      ],
      "metadata": {
        "colab": {
          "base_uri": "https://localhost:8080/"
        },
        "id": "tMaxxZtdk7fw",
        "outputId": "f2f8610f-55e8-458d-82d3-9476c967cb57"
      },
      "execution_count": null,
      "outputs": [
        {
          "output_type": "execute_result",
          "data": {
            "text/plain": [
              "4"
            ]
          },
          "metadata": {},
          "execution_count": 56
        }
      ]
    },
    {
      "cell_type": "code",
      "source": [
        "# Product of Array Except Self\n",
        "# https://leetcode.com/problems/product-of-array-except-self/description/\n",
        "# Time: O(n)\n",
        "# Space: O(n)\n",
        "\n",
        "def productExceptSelf(nums: list[int]) -> list[int]:\n",
        "    n = len(nums)\n",
        "    prefix = [1]*n\n",
        "    suffix = [1]*n\n",
        "    for i in range(1, n):\n",
        "        prefix[i] = prefix[i-1]*nums[i-1]\n",
        "        suffix[n-i-1] = suffix[n-i]*nums[n-i]\n",
        "    return list([prefix[i]*suffix[i] for i in range(n)])\n",
        "\n",
        "productExceptSelf([1,2,3,4])"
      ],
      "metadata": {
        "colab": {
          "base_uri": "https://localhost:8080/"
        },
        "id": "fjhWG8Dvo9l_",
        "outputId": "47ce5129-b6f4-407d-a2a1-103ec94d735e"
      },
      "execution_count": null,
      "outputs": [
        {
          "output_type": "execute_result",
          "data": {
            "text/plain": [
              "[24, 12, 8, 6]"
            ]
          },
          "metadata": {},
          "execution_count": 66
        }
      ]
    },
    {
      "cell_type": "code",
      "source": [
        "# Top K Frequent Elements\n",
        "# https://leetcode.com/problems/top-k-frequent-elements/description/\n",
        "# Time: O(n)\n",
        "# Space: O(n)\n",
        "\n",
        "from collections import Counter\n",
        "def topKFrequent(nums: list[int], k: int) -> list[int]:\n",
        "    counter = Counter(nums)\n",
        "    n = len(nums)\n",
        "    buckets = [0] * (n+1)\n",
        "\n",
        "    for value, freq in counter.items():\n",
        "        if buckets[freq] == 0:\n",
        "            buckets[freq] = [value]\n",
        "        else:\n",
        "            buckets[freq].extend([value])\n",
        "\n",
        "    res = []\n",
        "    for i in range(n, -1, -1):\n",
        "        if buckets[i] != 0:\n",
        "            res.extend(buckets[i])\n",
        "        if len(res) == k:\n",
        "            break\n",
        "\n",
        "    return res[:k]\n",
        "\n",
        "topKFrequent([1,1,1,2,2,3], 2)"
      ],
      "metadata": {
        "colab": {
          "base_uri": "https://localhost:8080/"
        },
        "id": "6aX3DAWTn-cX",
        "outputId": "8af329dc-be35-4dfd-a704-dc10049a26e4"
      },
      "execution_count": null,
      "outputs": [
        {
          "output_type": "execute_result",
          "data": {
            "text/plain": [
              "[1, 2]"
            ]
          },
          "metadata": {},
          "execution_count": 67
        }
      ]
    },
    {
      "cell_type": "code",
      "source": [
        "# Encode and Decode Strings\n",
        "# https://leetcode.com/problems/encode-and-decode-strings/description/\n",
        "# Time: O(n)\n",
        "# Space: O(n)\n",
        "\n",
        "def encode(strs: list[str]) -> str:\n",
        "    res = ''\n",
        "    for s in strs:\n",
        "        res += f'{len(s)}#{s}'\n",
        "    return res\n",
        "\n",
        "def decode(s: str) -> list[str]:\n",
        "    res = []\n",
        "    i = 0\n",
        "\n",
        "    while i < len(s):\n",
        "        j = i\n",
        "        while s[j] != '#':\n",
        "            j += 1\n",
        "        length = int(s[i:j])\n",
        "        i = j+1\n",
        "        j = i+length\n",
        "        res.append(s[i:j])\n",
        "        i = j\n",
        "\n",
        "    return res\n",
        "\n",
        "input = [\"we\",\"say\",\":\",\"yes\",\"!@#$%^&*()\"]\n",
        "decode(encode(input))"
      ],
      "metadata": {
        "colab": {
          "base_uri": "https://localhost:8080/"
        },
        "id": "aduuHaQnwcls",
        "outputId": "401699fd-2ec0-4596-d19a-aab63d8e63a0"
      },
      "execution_count": null,
      "outputs": [
        {
          "output_type": "execute_result",
          "data": {
            "text/plain": [
              "['we', 'say', ':', 'yes', '!@#$%^&*()']"
            ]
          },
          "metadata": {},
          "execution_count": 77
        }
      ]
    },
    {
      "cell_type": "code",
      "source": [
        "# Valid Sudoku\n",
        "# https://leetcode.com/problems/valid-sudoku/description/\n",
        "# Time: O(1)\n",
        "# Space: O(1)\n",
        "\n",
        "\n",
        "def isValidSudoku(board: list[list[str]]) -> bool:\n",
        "    rows = 9\n",
        "    cols = 9\n",
        "\n",
        "    # ROWS\n",
        "    for i in range(rows):\n",
        "        s = set()\n",
        "        for j in range(cols):\n",
        "            item = board[i][j]\n",
        "            if item in s:\n",
        "                return False\n",
        "            elif item != '.':\n",
        "                s.add(item)\n",
        "\n",
        "    # COLUMNS\n",
        "    for i in range(rows):\n",
        "        s = set()\n",
        "        for j in range(cols):\n",
        "            item = board[j][i]\n",
        "            if item in s:\n",
        "                return False\n",
        "            elif item != '.':\n",
        "                s.add(item)\n",
        "\n",
        "    starts = [\n",
        "        (0,0), (0,3), (0,6),\n",
        "        (3,0), (3,3), (3,6),\n",
        "        (6,0), (6,3), (6,6),\n",
        "    ]\n",
        "\n",
        "    # BOXES\n",
        "    for i, j in starts:\n",
        "        s = set()\n",
        "        for row in range(i, i+3):\n",
        "            for col in range(j, j+3):\n",
        "                item = board[row][col]\n",
        "                if item in s:\n",
        "                    return False\n",
        "                elif item != '.':\n",
        "                    s.add(item)\n",
        "\n",
        "    return True\n",
        "\n",
        "board = [[\"5\",\"3\",\".\",\".\",\"7\",\".\",\".\",\".\",\".\"]\n",
        ",[\"6\",\".\",\".\",\"1\",\"9\",\"5\",\".\",\".\",\".\"]\n",
        ",[\".\",\"9\",\"8\",\".\",\".\",\".\",\".\",\"6\",\".\"]\n",
        ",[\"8\",\".\",\".\",\".\",\"6\",\".\",\".\",\".\",\"3\"]\n",
        ",[\"4\",\".\",\".\",\"8\",\".\",\"3\",\".\",\".\",\"1\"]\n",
        ",[\"7\",\".\",\".\",\".\",\"2\",\".\",\".\",\".\",\"6\"]\n",
        ",[\".\",\"6\",\".\",\".\",\".\",\".\",\"2\",\"8\",\".\"]\n",
        ",[\".\",\".\",\".\",\"4\",\"1\",\"9\",\".\",\".\",\"5\"]\n",
        ",[\".\",\".\",\".\",\".\",\"8\",\".\",\".\",\"7\",\"9\"]]\n",
        "\n",
        "isValidSudoku(board)"
      ],
      "metadata": {
        "colab": {
          "base_uri": "https://localhost:8080/"
        },
        "id": "pdAJI2ir5Rin",
        "outputId": "827a1115-c7fc-4697-ba1a-ba857801daf0"
      },
      "execution_count": null,
      "outputs": [
        {
          "output_type": "execute_result",
          "data": {
            "text/plain": [
              "True"
            ]
          },
          "metadata": {},
          "execution_count": 80
        }
      ]
    },
    {
      "cell_type": "code",
      "source": [
        "# Majority Element\n",
        "# https://leetcode.com/problems/majority-element/description/\n",
        "# Time: O(n)\n",
        "# Space: O(1)\n",
        "\n",
        "def majorityElement(nums: list[int]) -> int:\n",
        "    count = 0\n",
        "    res = -1\n",
        "\n",
        "    for num in nums:\n",
        "        if res != num:\n",
        "            if count == 0:\n",
        "                res = num\n",
        "            else:\n",
        "                count -= 1\n",
        "        else:\n",
        "            count += 1\n",
        "\n",
        "    return res\n",
        "\n",
        "majorityElement([2,2,1,1,1,2,2])"
      ],
      "metadata": {
        "colab": {
          "base_uri": "https://localhost:8080/"
        },
        "id": "8c5DAOx9CupJ",
        "outputId": "d3a088f6-17ac-4a1d-f302-05166e3b3f67"
      },
      "execution_count": null,
      "outputs": [
        {
          "output_type": "execute_result",
          "data": {
            "text/plain": [
              "2"
            ]
          },
          "metadata": {},
          "execution_count": 81
        }
      ]
    },
    {
      "cell_type": "code",
      "source": [
        "# Two Sum\n",
        "# https://leetcode.com/problems/two-sum/description/\n",
        "# Time: O(n)\n",
        "# Space: O(n)\n",
        "\n",
        "def twoSum(nums: list[int], target: int) -> list[int]:\n",
        "    s = set(nums)\n",
        "    h = {}\n",
        "    for i in range(len(nums)):\n",
        "        h[nums[i]] = i\n",
        "\n",
        "    for idx, num in enumerate(nums):\n",
        "        if target-num in s:\n",
        "            if h[target-num] != idx:\n",
        "                return [idx, h[target-num]]\n",
        "    return []\n",
        "\n",
        "twoSum([2,7,11,15], 9)"
      ],
      "metadata": {
        "colab": {
          "base_uri": "https://localhost:8080/"
        },
        "id": "Tua2qJI8GZUi",
        "outputId": "e79d5a9f-3fc1-4015-ff63-b12bd8833103"
      },
      "execution_count": null,
      "outputs": [
        {
          "output_type": "execute_result",
          "data": {
            "text/plain": [
              "[0, 1]"
            ]
          },
          "metadata": {},
          "execution_count": 82
        }
      ]
    },
    {
      "cell_type": "code",
      "source": [
        "# Maximum Number of Balloons\n",
        "# https://leetcode.com/problems/maximum-number-of-balloons/description/\n",
        "# Time: O(n)\n",
        "# Space: O(1)\n",
        "\n",
        "import collections\n",
        "def maxNumberOfBalloons(text: str) -> int:\n",
        "    s2 = 'balloon'\n",
        "    s2map = collections.defaultdict(int)\n",
        "    for c in s2:\n",
        "        s2map[ord(c)-ord('a')] += 1\n",
        "\n",
        "    s1map = collections.defaultdict(int)\n",
        "    for c in text:\n",
        "        if ord(c)-ord('a') in s2map:\n",
        "            s1map[ord(c)-ord('a')] += 1\n",
        "\n",
        "    minimum = 2**64\n",
        "    for c in s2map:\n",
        "        if c not in s1map:\n",
        "            return 0\n",
        "        s1map[c] = s1map[c]//s2map[c]\n",
        "        minimum = min(minimum, s1map[c])\n",
        "\n",
        "    return minimum\n",
        "\n",
        "maxNumberOfBalloons('loonbalxballpoon')"
      ],
      "metadata": {
        "colab": {
          "base_uri": "https://localhost:8080/"
        },
        "id": "mFFfG8noIB5b",
        "outputId": "9ece6edc-1dc9-40aa-a665-6803aafca597"
      },
      "execution_count": null,
      "outputs": [
        {
          "output_type": "execute_result",
          "data": {
            "text/plain": [
              "2"
            ]
          },
          "metadata": {},
          "execution_count": 91
        }
      ]
    },
    {
      "cell_type": "code",
      "source": [
        "# Jewels and Stones\n",
        "# https://leetcode.com/problems/jewels-and-stones/description/\n",
        "# Time: O(n)\n",
        "# Space: O(n)\n",
        "\n",
        "import collections\n",
        "def numJewelsInStones(s2: str, text: str) -> int:\n",
        "    s2map = collections.defaultdict(int)\n",
        "    for c in s2:\n",
        "        s2map[ord(c)-ord('a')] += 1\n",
        "\n",
        "    s1map = collections.defaultdict(int)\n",
        "    for c in text:\n",
        "        if ord(c)-ord('a') in s2map:\n",
        "            s1map[ord(c)-ord('a')] += 1\n",
        "\n",
        "    total = 0\n",
        "    for c in s2map:\n",
        "        total += s1map[c]\n",
        "\n",
        "    return total\n",
        "\n",
        "numJewelsInStones(\"aA\", \"aAAbbbb\")"
      ],
      "metadata": {
        "colab": {
          "base_uri": "https://localhost:8080/"
        },
        "id": "ruj9j6Iyh7RV",
        "outputId": "e23b1f88-3800-4860-8cda-ba9e1cfacded"
      },
      "execution_count": null,
      "outputs": [
        {
          "output_type": "execute_result",
          "data": {
            "text/plain": [
              "3"
            ]
          },
          "metadata": {},
          "execution_count": 24
        }
      ]
    },
    {
      "cell_type": "code",
      "source": [
        "# Merge Intervals\n",
        "# https://leetcode.com/problems/merge-intervals/description/\n",
        "# Time: O(n*logn)\n",
        "# Space: O(n)\n",
        "\n",
        "def merge(intervals: list[list[int]]) -> list[list[int]]:\n",
        "    merged_intervals = []\n",
        "    intervals.sort(key = lambda interval: interval[0])\n",
        "    for interval in intervals:\n",
        "        if not merged_intervals:\n",
        "            merged_intervals.append(interval)\n",
        "        else:\n",
        "            recent_elem = merged_intervals[-1]\n",
        "            if interval[0] <= recent_elem[1]:\n",
        "                merged_intervals[-1] = [recent_elem[0], max(recent_elem[1], interval[1])]\n",
        "            else:\n",
        "                merged_intervals.append(interval)\n",
        "\n",
        "    return merged_intervals\n",
        "\n",
        "merge([[1,3],[2,6],[8,10],[15,18]])"
      ],
      "metadata": {
        "id": "BbmwZZmlJUoI",
        "colab": {
          "base_uri": "https://localhost:8080/"
        },
        "outputId": "c8c26b45-0bb1-4e19-9b80-436c6ec98c9c"
      },
      "execution_count": null,
      "outputs": [
        {
          "output_type": "execute_result",
          "data": {
            "text/plain": [
              "[[1, 6], [8, 10], [15, 18]]"
            ]
          },
          "metadata": {},
          "execution_count": 2
        }
      ]
    },
    {
      "cell_type": "code",
      "source": [
        "# Roman to Integer\n",
        "# https://leetcode.com/problems/roman-to-integer/description/\n",
        "# Time: O(n)\n",
        "# Space: O(1)\n",
        "\n",
        "def romanToInt(s: str) -> int:\n",
        "    roman_num_dict = {\n",
        "        'I': 1, 'V': 5, 'X': 10, 'L': 50, 'C': 100, 'D': 500, 'M': 1000,\n",
        "        'IV': 4, 'IX': 9, 'XL': 40, 'XC': 90, 'CD': 400, 'CM': 900\n",
        "    }\n",
        "\n",
        "    n = len(s)\n",
        "    res = 0\n",
        "    # i = 0\n",
        "    # while i < n:\n",
        "    #     if s[i:i+2] in roman_num_dict:\n",
        "    #         res += roman_num_dict[s[i:i+2]]\n",
        "    #         i += 2\n",
        "    #     else:\n",
        "    #         res += roman_num_dict[s[i]]\n",
        "    #         i += 1\n",
        "\n",
        "    for i in range(n):\n",
        "        if i == n-1:\n",
        "            res += roman_num_dict[s[i]]\n",
        "        elif roman_num_dict[s[i]] < roman_num_dict[s[i+1]]:\n",
        "            res -= roman_num_dict[s[i]]\n",
        "        else:\n",
        "            res += roman_num_dict[s[i]]\n",
        "\n",
        "    return res\n",
        "\n",
        "\n",
        "romanToInt('MCMXCIV')"
      ],
      "metadata": {
        "colab": {
          "base_uri": "https://localhost:8080/"
        },
        "id": "ulXSPvfpga51",
        "outputId": "fb1347ba-975d-4727-d10f-c40454f41d86"
      },
      "execution_count": null,
      "outputs": [
        {
          "output_type": "execute_result",
          "data": {
            "text/plain": [
              "1994"
            ]
          },
          "metadata": {},
          "execution_count": 3
        }
      ]
    },
    {
      "cell_type": "code",
      "source": [
        "# Summary Ranges\n",
        "# https://leetcode.com/problems/summary-ranges/\n",
        "# Time: O(n)\n",
        "# Space: O(1)\n",
        "\n",
        "def summaryRanges(nums: list[int]) -> list[str]:\n",
        "    nums.sort()\n",
        "    res = []\n",
        "    n = len(nums)\n",
        "    i = 0\n",
        "    while i < n:\n",
        "        start_idx = i\n",
        "        start = nums[start_idx]\n",
        "        end = nums[start_idx]\n",
        "        j = 1\n",
        "        end_idx = i+1\n",
        "        while end_idx < n and nums[start_idx]+1 == nums[end_idx]:\n",
        "            end = nums[end_idx]\n",
        "            start_idx = end_idx\n",
        "            end_idx = end_idx+1\n",
        "        if start == end:\n",
        "            res.append(f'{start}')\n",
        "        else:\n",
        "            res.append(f'{start}->{end}')\n",
        "        i = end_idx\n",
        "\n",
        "    return res\n",
        "\n",
        "summaryRanges([0,2,3,4,6,8,9])"
      ],
      "metadata": {
        "colab": {
          "base_uri": "https://localhost:8080/"
        },
        "id": "4d1RiAG3lo65",
        "outputId": "dd45083f-bed9-4ffa-db76-6a059f25ede7"
      },
      "execution_count": null,
      "outputs": [
        {
          "output_type": "execute_result",
          "data": {
            "text/plain": [
              "['0', '2->4', '6', '8->9']"
            ]
          },
          "metadata": {},
          "execution_count": 4
        }
      ]
    },
    {
      "cell_type": "markdown",
      "source": [
        "# 2 POINTERS"
      ],
      "metadata": {
        "id": "jzfjkyLnt3RR"
      }
    },
    {
      "cell_type": "code",
      "source": [
        "# Squares of a Sorted Array\n",
        "# https://leetcode.com/problems/squares-of-a-sorted-array/description/\n",
        "# Time: O(n)\n",
        "# Space: O(n)\n",
        "\n",
        "def sortedSquares(nums: list[int]) -> list[int]:\n",
        "    n = len(nums)\n",
        "    l, r = 0, n-1\n",
        "    res = []\n",
        "    while l >= 0 and r <= n-1 and l <= r:\n",
        "        if abs(nums[l]) < abs(nums[r]):\n",
        "            res.append(nums[r]**2)\n",
        "            r -= 1\n",
        "        else:\n",
        "            res.append(nums[l]**2)\n",
        "            l += 1\n",
        "    return res[::-1]\n",
        "\n",
        "sortedSquares([-4,-1,0,3,10])"
      ],
      "metadata": {
        "colab": {
          "base_uri": "https://localhost:8080/"
        },
        "id": "WQ_0HRlktfkz",
        "outputId": "b72af1a9-75eb-458c-aad4-04fd74094cfe"
      },
      "execution_count": null,
      "outputs": [
        {
          "output_type": "execute_result",
          "data": {
            "text/plain": [
              "[0, 1, 9, 16, 100]"
            ]
          },
          "metadata": {},
          "execution_count": 7
        }
      ]
    },
    {
      "cell_type": "code",
      "source": [
        "# Reverse String\n",
        "# https://leetcode.com/problems/reverse-string/description/\n",
        "# Time: O(n)\n",
        "# Space: O(1)\n",
        "\n",
        "def reverseString(s: list[str]) -> None:\n",
        "    \"\"\"\n",
        "    Do not return anything, modify s in-place instead.\n",
        "    \"\"\"\n",
        "    n = len(s)\n",
        "    left = 0\n",
        "    right = n-1\n",
        "\n",
        "    while left <= right:\n",
        "        temp = s[left]\n",
        "        s[left] = s[right]\n",
        "        s[right] = temp\n",
        "        left += 1\n",
        "        right -= 1\n",
        "\n",
        "    return s\n",
        "\n",
        "reverseString([\"h\",\"e\",\"l\",\"l\",\"o\"])"
      ],
      "metadata": {
        "colab": {
          "base_uri": "https://localhost:8080/"
        },
        "id": "1FHVflDnyjt_",
        "outputId": "841c3a61-451b-40f1-84ac-67fba27ff569"
      },
      "execution_count": null,
      "outputs": [
        {
          "output_type": "execute_result",
          "data": {
            "text/plain": [
              "['o', 'l', 'l', 'e', 'h']"
            ]
          },
          "metadata": {},
          "execution_count": 8
        }
      ]
    },
    {
      "cell_type": "code",
      "source": [
        "# Two Sum II - Input Array Is Sorted\n",
        "# https://leetcode.com/problems/two-sum-ii-input-array-is-sorted/description/\n",
        "# Time: O(n)\n",
        "# Space: O(n)\n",
        "\n",
        "def twoSum(numbers: list[int], target: int) -> list[int]:\n",
        "    n = len(numbers)\n",
        "\n",
        "    left = 0\n",
        "    right = n-1\n",
        "\n",
        "    while left <= right:\n",
        "        if numbers[left] + numbers[right] == target:\n",
        "            return [left + 1, right + 1]\n",
        "        elif numbers[left] + numbers[right] >= target:\n",
        "            right -= 1\n",
        "        else:\n",
        "            left += 1\n",
        "\n",
        "    return\n",
        "\n",
        "twoSum([2,7,11,15], 9)"
      ],
      "metadata": {
        "colab": {
          "base_uri": "https://localhost:8080/"
        },
        "id": "5QfurNBX0VXB",
        "outputId": "41739307-b64c-41b5-f747-9575cfa0ba3c"
      },
      "execution_count": null,
      "outputs": [
        {
          "output_type": "execute_result",
          "data": {
            "text/plain": [
              "[1, 2]"
            ]
          },
          "metadata": {},
          "execution_count": 9
        }
      ]
    },
    {
      "cell_type": "code",
      "source": [
        "# 3Sum\n",
        "# https://leetcode.com/problems/3sum/description/\n",
        "# Time: O(n^2)\n",
        "# Space: O(n)\n",
        "\n",
        "def threeSum(nums: list[int]) -> list[list[int]]:\n",
        "    n = len(nums)\n",
        "    nums.sort()\n",
        "    res = []\n",
        "    for i in range(n):\n",
        "        if nums[i] > 0:\n",
        "            break\n",
        "        elif i > 0 and nums[i] == nums[i-1]:\n",
        "            continue\n",
        "        left = i+1\n",
        "        right = n-1\n",
        "        while left < right:\n",
        "            sum = nums[left] + nums[right] + nums[i]\n",
        "            if sum == 0:\n",
        "                curr = [nums[i], nums[left], nums[right]]\n",
        "                res.append(curr)\n",
        "                right -= 1\n",
        "                left += 1\n",
        "                while left < n-1 and nums[left] == nums[left-1]:\n",
        "                    left += 1\n",
        "                while right > 0 and nums[right] == nums[right+1]:\n",
        "                    right -= 1\n",
        "            elif sum > 0:\n",
        "                right -= 1\n",
        "            else:\n",
        "                left += 1\n",
        "\n",
        "    return res\n"
      ],
      "metadata": {
        "id": "iQC88MT_0go_"
      },
      "execution_count": null,
      "outputs": []
    },
    {
      "cell_type": "code",
      "source": [
        "# Container With Most Water\n",
        "# https://leetcode.com/problems/container-with-most-water/description/\n",
        "# Time: O(n)\n",
        "# Space: O(1)\n",
        "\n",
        "def maxArea(height: list[int]) -> int:\n",
        "    n = len(height)\n",
        "    left = 0\n",
        "    right = n-1\n",
        "    max_area = 0\n",
        "\n",
        "    while left < right:\n",
        "        max_area = max(max_area, min(height[left], height[right]) * (right-left))\n",
        "        if height[left] < height[right]:\n",
        "            left += 1\n",
        "        else:\n",
        "            right -= 1\n",
        "\n",
        "    return max_area\n",
        "\n",
        "maxArea([1,8,6,2,5,4,8,3,7])"
      ],
      "metadata": {
        "colab": {
          "base_uri": "https://localhost:8080/"
        },
        "id": "uUXt8I3jebZN",
        "outputId": "5d6b706d-afa4-4287-f558-4d2ac4924137"
      },
      "execution_count": null,
      "outputs": [
        {
          "output_type": "execute_result",
          "data": {
            "text/plain": [
              "49"
            ]
          },
          "metadata": {},
          "execution_count": 23
        }
      ]
    },
    {
      "cell_type": "code",
      "source": [
        "# Trapping Rain Water\n",
        "# https://leetcode.com/problems/trapping-rain-water/submissions/1553906524/\n",
        "# Time: O(n)\n",
        "# Space: O(n)\n",
        "\n",
        "def trap(height: list[int]) -> int:\n",
        "    n = len(height)\n",
        "    wall_left = [0]*n\n",
        "    wall_right = [0]*n\n",
        "    # Left wall\n",
        "    for i in range(1, n):\n",
        "        wall_left[i] = max(height[i-1], wall_left[i-1])\n",
        "    for i in range(n-2, -1, -1):\n",
        "        wall_right[i] = max(height[i+1], wall_right[i+1])\n",
        "\n",
        "    volume = 0\n",
        "    for i in range(n):\n",
        "        volume += max(0, min(wall_left[i], wall_right[i]) - height[i])\n",
        "\n",
        "    return volume\n",
        "\n",
        "trap([4,2,0,3,2,5])"
      ],
      "metadata": {
        "colab": {
          "base_uri": "https://localhost:8080/"
        },
        "id": "vIgXVwMxeZJ-",
        "outputId": "8758419f-617e-4dfc-b617-a1097ddd80aa"
      },
      "execution_count": null,
      "outputs": [
        {
          "output_type": "execute_result",
          "data": {
            "text/plain": [
              "9"
            ]
          },
          "metadata": {},
          "execution_count": 22
        }
      ]
    },
    {
      "cell_type": "markdown",
      "source": [
        "# MATH"
      ],
      "metadata": {
        "id": "CXzC6A9STJ5r"
      }
    },
    {
      "cell_type": "code",
      "source": [
        "# Happy Number\n",
        "# https://leetcode.com/problems/happy-number/description/\n",
        "\n",
        "# SOLUTION 1: FAST AND SLOW POINTERS\n",
        "# Time: O(n)\n",
        "# Space: O(1)\n",
        "def isHappy(n: int) -> bool:\n",
        "    slow = n\n",
        "    fast = n\n",
        "    fast = sum([int(i)**2 for i in str(fast)])\n",
        "    if fast == 1 or slow == 1:\n",
        "        return True\n",
        "    while fast != slow:\n",
        "        fast = sum([int(i)**2 for i in str(fast)])\n",
        "        fast = sum([int(i)**2 for i in str(fast)])\n",
        "        slow = sum([int(i)**2 for i in str(slow)])\n",
        "        if fast == 1 or slow == 1:\n",
        "            return True\n",
        "\n",
        "    return False\n",
        "\n",
        "isHappy(5555)"
      ],
      "metadata": {
        "colab": {
          "base_uri": "https://localhost:8080/"
        },
        "id": "2vZ3hasoRau_",
        "outputId": "3afd077f-9d6a-449a-dea2-c56d6e07ec88"
      },
      "execution_count": null,
      "outputs": [
        {
          "output_type": "execute_result",
          "data": {
            "text/plain": [
              "True"
            ]
          },
          "metadata": {},
          "execution_count": 12
        }
      ]
    },
    {
      "cell_type": "code",
      "source": [
        "# Happy Number\n",
        "# https://leetcode.com/problems/happy-number/description/\n",
        "\n",
        "# SOLUTION 2: MEMOIZATION\n",
        "# Time: O(n)\n",
        "# Space: O(n)\n",
        "def isHappy(n: int) -> bool:\n",
        "    seen = set()\n",
        "    cur = str(n)\n",
        "    while cur not in seen:\n",
        "        seen.add(cur)\n",
        "        if cur == '1':\n",
        "            return True\n",
        "        next = sum([int(i)**2 for i in cur])\n",
        "        cur = str(next)\n",
        "\n",
        "    return False\n",
        "\n",
        "isHappy(5555)"
      ],
      "metadata": {
        "colab": {
          "base_uri": "https://localhost:8080/"
        },
        "id": "vQVFFKhnSXMQ",
        "outputId": "0a81188e-0ea8-4811-cbca-7cafeaa8faac"
      },
      "execution_count": null,
      "outputs": [
        {
          "output_type": "execute_result",
          "data": {
            "text/plain": [
              "True"
            ]
          },
          "metadata": {},
          "execution_count": 13
        }
      ]
    },
    {
      "cell_type": "markdown",
      "source": [
        "# STACKS"
      ],
      "metadata": {
        "id": "adL69s8Wg_WX"
      }
    },
    {
      "cell_type": "code",
      "source": [
        "# Baseball Game\n",
        "# https://leetcode.com/problems/baseball-game/description/\n",
        "# Time: O(n)\n",
        "# Space: O(n)\n",
        "\n",
        "def calPoints(operations: list[str]) -> int:\n",
        "    stack = []\n",
        "\n",
        "    for operation in operations:\n",
        "        if len(stack) == 0:\n",
        "            stack.append(int(operation))\n",
        "        elif operation == 'C':\n",
        "            stack.pop()\n",
        "        elif operation == 'D':\n",
        "            stack.append(stack[-1] * 2)\n",
        "        elif operation == '+':\n",
        "            stack.append(stack[-1] + stack[-2])\n",
        "        else:\n",
        "            stack.append(int(operation))\n",
        "\n",
        "    return sum(stack)\n",
        "\n",
        "calPoints([\"5\",\"2\",\"C\",\"D\",\"+\"])"
      ],
      "metadata": {
        "id": "6v-otABkd7cX",
        "colab": {
          "base_uri": "https://localhost:8080/"
        },
        "outputId": "599447d1-c9f2-4697-e149-bb353932a1b5"
      },
      "execution_count": null,
      "outputs": [
        {
          "output_type": "execute_result",
          "data": {
            "text/plain": [
              "30"
            ]
          },
          "metadata": {},
          "execution_count": 1
        }
      ]
    },
    {
      "cell_type": "code",
      "source": [
        "# Valid Parentheses\n",
        "# https://leetcode.com/problems/valid-parentheses/description/\n",
        "# Time: O(n)\n",
        "# Space: O(n)\n",
        "\n",
        "import collections\n",
        "def isValid(s: str) -> bool:\n",
        "    stack = collections.deque()\n",
        "\n",
        "    pairs = {\n",
        "        ')': '(', '}': '{', ']': '['\n",
        "    }\n",
        "\n",
        "    for elem in s:\n",
        "        if elem not in pairs:\n",
        "            stack.append(elem)\n",
        "        elif len(stack) == 0 and elem in pairs:\n",
        "            return False\n",
        "        elif len(stack) and elem in pairs and pairs[elem] == stack[-1]:\n",
        "            stack.pop()\n",
        "        else:\n",
        "            stack.append(elem)\n",
        "\n",
        "    return not stack\n",
        "\n",
        "isValid(\"()[]{}\")"
      ],
      "metadata": {
        "colab": {
          "base_uri": "https://localhost:8080/"
        },
        "id": "no-IVL34hCKt",
        "outputId": "ba4723a2-3374-448c-93a1-5899c3a9a33a"
      },
      "execution_count": null,
      "outputs": [
        {
          "output_type": "execute_result",
          "data": {
            "text/plain": [
              "True"
            ]
          },
          "metadata": {},
          "execution_count": 5
        }
      ]
    },
    {
      "cell_type": "code",
      "source": [
        "# Evaluate Reverse Polish Notation\n",
        "# https://leetcode.com/problems/evaluate-reverse-polish-notation/\n",
        "# Time: O(n)\n",
        "# Space: O(n)\n",
        "\n",
        "def evalRPN(tokens: list[str]) -> int:\n",
        "    from math import ceil, floor\n",
        "    stack = collections.deque()\n",
        "\n",
        "    for c in tokens:\n",
        "        if c in '+/*-':\n",
        "            n1 = stack.pop()\n",
        "            n2 = stack.pop()\n",
        "            if c == '+':\n",
        "                stack.append(n1+n2)\n",
        "            elif c == '*':\n",
        "                stack.append(n1*n2)\n",
        "            elif c == '/':\n",
        "                div = n2/n1\n",
        "                if div < 0:\n",
        "                    stack.append(ceil(div))\n",
        "                else:\n",
        "                    stack.append(floor(div))\n",
        "            elif c == '-':\n",
        "                stack.append(n2-n1)\n",
        "        else:\n",
        "            stack.append(int(c))\n",
        "\n",
        "    return stack[-1]\n",
        "\n",
        "evalRPN([\"10\",\"6\",\"9\",\"3\",\"+\",\"-11\",\"*\",\"/\",\"*\",\"17\",\"+\",\"5\",\"+\"])"
      ],
      "metadata": {
        "colab": {
          "base_uri": "https://localhost:8080/"
        },
        "id": "b-u-6OSykJQN",
        "outputId": "cdc644a4-a9f2-41b0-808f-85bc3faaf38d"
      },
      "execution_count": null,
      "outputs": [
        {
          "output_type": "execute_result",
          "data": {
            "text/plain": [
              "22"
            ]
          },
          "metadata": {},
          "execution_count": 14
        }
      ]
    },
    {
      "cell_type": "code",
      "source": [
        "# Daily Temperatures\n",
        "# https://leetcode.com/problems/daily-temperatures/description/\n",
        "# Time: O(n)\n",
        "# Space: O(n)\n",
        "\n",
        "def dailyTemperatures(temperatures: list[int]) -> list[int]:\n",
        "    stack = []\n",
        "    n = len(temperatures)\n",
        "    res = [0]*n\n",
        "\n",
        "    for idx, c in enumerate(temperatures):\n",
        "        while stack and c > stack[-1][0]:\n",
        "            popped = stack.pop()\n",
        "            res[popped[1]] = idx-popped[1]\n",
        "        stack.append((c, idx))\n",
        "\n",
        "    return res\n",
        "\n",
        "dailyTemperatures([73,74,75,71,69,72,76,73])"
      ],
      "metadata": {
        "colab": {
          "base_uri": "https://localhost:8080/"
        },
        "id": "0V4JedjOmcN7",
        "outputId": "dd6cf474-3b45-4339-9bd6-9f15d6d2887c"
      },
      "execution_count": null,
      "outputs": [
        {
          "output_type": "execute_result",
          "data": {
            "text/plain": [
              "[1, 1, 4, 2, 1, 1, 0, 0]"
            ]
          },
          "metadata": {},
          "execution_count": 19
        }
      ]
    },
    {
      "cell_type": "code",
      "source": [
        "# Min Stack\n",
        "# https://leetcode.com/problems/min-stack/submissions/1554628121/\n",
        "# Time: O(n)\n",
        "# Space: O(n)\n",
        "\n",
        "class MinStack:\n",
        "\n",
        "    def __init__(self):\n",
        "        self.elements = []\n",
        "        self.min = []\n",
        "\n",
        "    def push(self, val: int) -> None:\n",
        "        self.elements.append(val)\n",
        "        if self.min:\n",
        "            self.min.append(min(self.min[-1], val))\n",
        "        else:\n",
        "            self.min.append(val)\n",
        "\n",
        "    def pop(self) -> None:\n",
        "        self.elements.pop()\n",
        "        self.min.pop()\n",
        "\n",
        "    def top(self) -> int:\n",
        "        return self.elements[-1]\n",
        "\n",
        "    def getMin(self) -> int:\n",
        "        return self.min[-1]\n",
        "\n",
        "# minStack = MinStack()\n",
        "# minStack.push(-2)\n",
        "# minStack.push(0)\n",
        "# minStack.push(-3)\n",
        "# minStack.getMin()\n",
        "# minStack.pop()\n",
        "# minStack.top()\n",
        "# minStack.getMin()"
      ],
      "metadata": {
        "id": "ADEpBDC6uevT"
      },
      "execution_count": null,
      "outputs": []
    },
    {
      "cell_type": "code",
      "source": [
        "# Min Stack\n",
        "# https://leetcode.com/problems/car-fleet/description/\n",
        "# Time: O(n)\n",
        "# Space: O(n)\n",
        "\n",
        "def carFleet(target: int, position: list[int], speed: list[int]) -> int:\n",
        "    stack = []\n",
        "\n",
        "    for p, s in sorted(zip(position, speed), key=lambda x: x[0])[::-1]:\n",
        "        stack.append((target-p)/s)\n",
        "        if len(stack) > 1:\n",
        "            if stack[-1] <= stack[-2]:\n",
        "                stack.pop()\n",
        "\n",
        "    return len(stack)\n",
        "\n",
        "carFleet(target = 12, position = [10,8,0,5,3], speed = [2,4,1,1,3])"
      ],
      "metadata": {
        "colab": {
          "base_uri": "https://localhost:8080/"
        },
        "id": "2EkB9_7Rn5TG",
        "outputId": "cd8f2e5d-20ae-4a0d-8044-73896ad985d4"
      },
      "execution_count": null,
      "outputs": [
        {
          "output_type": "execute_result",
          "data": {
            "text/plain": [
              "3"
            ]
          },
          "metadata": {},
          "execution_count": 30
        }
      ]
    },
    {
      "cell_type": "code",
      "source": [
        "# Largest Rectangle in Histogram\n",
        "# https://leetcode.com/problems/largest-rectangle-in-histogram/description/\n",
        "# Time: O(n)\n",
        "# Space: O(n)\n",
        "\n",
        "def largestRectangleArea(heights: list[int]) -> int:\n",
        "    n = len(heights)\n",
        "    stk = []\n",
        "    max_area = 0\n",
        "\n",
        "    for i, height in enumerate(heights):\n",
        "        start = i\n",
        "        while stk and height < stk[-1][0]:\n",
        "            h, j = stk.pop()\n",
        "            w = i - j\n",
        "            a = h*w\n",
        "            max_area = max(max_area, a)\n",
        "            start = j\n",
        "        stk.append((height, start))\n",
        "\n",
        "    while stk:\n",
        "        h, j = stk.pop()\n",
        "        w = n - j\n",
        "        max_area = max(max_area, h*w)\n",
        "\n",
        "    return max_area"
      ],
      "metadata": {
        "id": "sca9JP83yp7b"
      },
      "execution_count": null,
      "outputs": []
    },
    {
      "cell_type": "code",
      "source": [
        "# Generate Parentheses\n",
        "# https://leetcode.com/problems/generate-parentheses/description/\n",
        "# Time: O(2**n)\n",
        "# Space: O(n)\n",
        "\n",
        "def generateParenthesis(n: int) -> list[str]:\n",
        "    ans, sol = [],  []\n",
        "\n",
        "    def backtrack(open_c, close_c):\n",
        "        if len(sol) == 2*n:\n",
        "            ans.append(''.join(sol))\n",
        "            return\n",
        "\n",
        "        if open_c < n:\n",
        "            sol.append('(')\n",
        "            backtrack(open_c + 1, close_c)\n",
        "            sol.pop()\n",
        "\n",
        "        if open_c > close_c:\n",
        "            sol.append(')')\n",
        "            backtrack(open_c, close_c + 1)\n",
        "            sol.pop()\n",
        "\n",
        "    backtrack(0, 0)\n",
        "    return ans\n",
        "\n",
        "generateParenthesis(3)"
      ],
      "metadata": {
        "colab": {
          "base_uri": "https://localhost:8080/"
        },
        "id": "0rNvzFnk0GXc",
        "outputId": "15189079-59a1-4f14-bbe3-b58cead381c4"
      },
      "execution_count": null,
      "outputs": [
        {
          "output_type": "execute_result",
          "data": {
            "text/plain": [
              "['((()))', '(()())', '(())()', '()(())', '()()()']"
            ]
          },
          "metadata": {},
          "execution_count": 31
        }
      ]
    },
    {
      "cell_type": "markdown",
      "source": [
        "# LINKED LISTS"
      ],
      "metadata": {
        "id": "BPLTAf0sIKyj"
      }
    },
    {
      "cell_type": "code",
      "source": [
        "# Remove Duplicates from Sorted List\n",
        "# https://leetcode.com/problems/remove-duplicates-from-sorted-list/description/\n",
        "# Time: O(n)\n",
        "# Space: O(1)\n",
        "\n",
        "from typing import Optional\n",
        "\n",
        "class ListNode:\n",
        "    def __init__(self, val=0, next=None):\n",
        "        self.val = val\n",
        "        self.next = next\n",
        "\n",
        "def deleteDuplicates(head: Optional[ListNode]) -> Optional[ListNode]:\n",
        "    curr = head\n",
        "    while curr and curr.next:\n",
        "        if curr.val == curr.next.val:\n",
        "            curr.next = curr.next.next\n",
        "        else:\n",
        "            curr = curr.next\n",
        "    return head"
      ],
      "metadata": {
        "id": "WfjPL-H8DexF"
      },
      "execution_count": null,
      "outputs": []
    },
    {
      "cell_type": "code",
      "source": [
        "# Reverse Linked List\n",
        "# https://leetcode.com/problems/reverse-linked-list/description/\n",
        "# Time: O(n)\n",
        "# Space: O(1)\n",
        "\n",
        "def reverseList(head: Optional[ListNode]) -> Optional[ListNode]:\n",
        "    curr = head\n",
        "    prev = None\n",
        "    while curr:\n",
        "        temp = curr.next\n",
        "        curr.next = prev\n",
        "        prev = curr\n",
        "        curr = temp\n",
        "\n",
        "    return prev"
      ],
      "metadata": {
        "id": "jD7UCdBWFdoD"
      },
      "execution_count": null,
      "outputs": []
    },
    {
      "cell_type": "code",
      "source": [
        "# Merge Two Sorted Lists\n",
        "# https://leetcode.com/problems/merge-two-sorted-lists/description/\n",
        "# Time: O(n)\n",
        "# Space: O(1)\n",
        "\n",
        "def mergeTwoLists(list1: Optional[ListNode], list2: Optional[ListNode]) -> Optional[ListNode]:\n",
        "    head = ListNode()\n",
        "    curr = head\n",
        "    while list1 and list2:\n",
        "        if list1.val < list2.val:\n",
        "            curr.next = list1\n",
        "            curr = list1\n",
        "            list1 = list1.next\n",
        "        else:\n",
        "            curr.next = list2\n",
        "            curr = list2\n",
        "            list2 = list2.next\n",
        "\n",
        "    curr.next = list2 if list2 else list1\n",
        "\n",
        "    return head.next\n"
      ],
      "metadata": {
        "id": "80P0wsSDINj4"
      },
      "execution_count": null,
      "outputs": []
    },
    {
      "cell_type": "code",
      "source": [
        "# Linked List Cycle\n",
        "# https://leetcode.com/problems/linked-list-cycle/description/\n",
        "# Time: O(n)\n",
        "# Space: O(1)\n",
        "\n",
        "def hasCycle(head: Optional[ListNode]) -> bool:\n",
        "    dummy = ListNode()\n",
        "    dummy.next = head\n",
        "    slow = dummy\n",
        "    fast = dummy\n",
        "    while fast and fast.next:\n",
        "        fast = fast.next.next\n",
        "        slow = slow.next\n",
        "        if fast == slow:\n",
        "            return True\n",
        "\n",
        "    return False"
      ],
      "metadata": {
        "id": "5daekvMMINdY"
      },
      "execution_count": null,
      "outputs": []
    },
    {
      "cell_type": "code",
      "source": [
        "# Middle of the Linked List\n",
        "# https://leetcode.com/problems/middle-of-the-linked-list/description/\n",
        "# Time: O(n)\n",
        "# Space: O(1)\n",
        "\n",
        "def middleNode(head: Optional[ListNode]) -> Optional[ListNode]:\n",
        "    fast = head\n",
        "    slow = head\n",
        "\n",
        "    while fast and fast.next:\n",
        "        fast = fast.next.next\n",
        "        slow = slow.next\n",
        "\n",
        "    return slow"
      ],
      "metadata": {
        "id": "JenPOaB7RV66"
      },
      "execution_count": null,
      "outputs": []
    },
    {
      "cell_type": "code",
      "source": [
        "# Remove Nth Node From End of List\n",
        "# https://leetcode.com/problems/remove-nth-node-from-end-of-list/description/\n",
        "# Time: O(n)\n",
        "# Space: O(1)\n",
        "\n",
        "def removeNthFromEnd(head: Optional[ListNode], n: int) -> Optional[ListNode]:\n",
        "    dummy = ListNode()\n",
        "    dummy.next = head\n",
        "    ahead = dummy\n",
        "    behind = dummy\n",
        "\n",
        "    for i in range(n+1):\n",
        "        ahead = ahead.next\n",
        "\n",
        "    while ahead:\n",
        "        behind = behind.next\n",
        "        ahead = ahead.next\n",
        "\n",
        "    # behind = behind.next does not modify the chains\n",
        "    # but behind.next = behind.next.next will modify the chains\n",
        "    behind.next = behind.next.next\n",
        "\n",
        "    return dummy.next"
      ],
      "metadata": {
        "id": "grfqD6KbSMWS"
      },
      "execution_count": null,
      "outputs": []
    },
    {
      "cell_type": "code",
      "source": [
        "# Copy List with Random Pointer\n",
        "# https://leetcode.com/problems/copy-list-with-random-pointer/description/\n",
        "# Time: O(n)\n",
        "# Space: O(n)\n",
        "\n",
        "def copyRandomList(head: 'Optional[Node]') -> 'Optional[Node]':\n",
        "    if not head:\n",
        "        return None\n",
        "\n",
        "    curr = head\n",
        "    old_to_new = {}\n",
        "\n",
        "    while curr:\n",
        "        new = Node(x=curr.val)\n",
        "        old_to_new[curr] = new\n",
        "        curr = curr.next\n",
        "\n",
        "    curr = head\n",
        "    while curr:\n",
        "        new = old_to_new[curr]\n",
        "        new.next = old_to_new[curr.next] if curr.next else None\n",
        "        new.random = old_to_new[curr.random] if curr.random else None\n",
        "        curr = curr.next\n",
        "\n",
        "    return old_to_new[head]"
      ],
      "metadata": {
        "id": "zOz0OO4cYTNy"
      },
      "execution_count": null,
      "outputs": []
    },
    {
      "cell_type": "markdown",
      "source": [
        "# BINARY SEARCH"
      ],
      "metadata": {
        "id": "hjnNtqmKLvb2"
      }
    },
    {
      "cell_type": "code",
      "source": [
        "# Binary Search\n",
        "# https://leetcode.com/problems/binary-search/description/\n",
        "# Time: O(logn)\n",
        "# Space: O(1)\n",
        "\n",
        "def search(nums: list[int], target: int) -> int:\n",
        "    n = len(nums)\n",
        "    left = 0\n",
        "    right = n-1\n",
        "\n",
        "    while left <= right:\n",
        "        mid = (left+right)//2\n",
        "        if nums[mid] == target:\n",
        "            return mid\n",
        "        elif nums[mid] > target:\n",
        "            right = mid-1\n",
        "        elif nums[mid] < target:\n",
        "            left = mid+1\n",
        "\n",
        "    return -1\n",
        "\n",
        "search(nums = [-1,0,3,5,9,12], target = 9)"
      ],
      "metadata": {
        "colab": {
          "base_uri": "https://localhost:8080/"
        },
        "id": "nT-7FzlKLvPW",
        "outputId": "598b3a7e-410c-4a95-8f25-fc8f1c976da4"
      },
      "execution_count": null,
      "outputs": [
        {
          "output_type": "execute_result",
          "data": {
            "text/plain": [
              "4"
            ]
          },
          "metadata": {},
          "execution_count": 1
        }
      ]
    },
    {
      "cell_type": "code",
      "source": [
        "# Search Insert Position\n",
        "# https://leetcode.com/problems/search-insert-position/description/\n",
        "# Time: O(logn)\n",
        "# Space: O(1)\n",
        "\n",
        "def searchInsert(nums: list[int], target: int) -> int:\n",
        "    n = len(nums)\n",
        "    low = 0\n",
        "    high = n-1\n",
        "\n",
        "    while low <= high:\n",
        "        mid = (low+high)//2\n",
        "        if nums[mid] == target:\n",
        "            return mid\n",
        "        elif nums[mid] > target:\n",
        "            high = mid-1\n",
        "        else:\n",
        "            low = mid+1\n",
        "\n",
        "    if nums[mid] > target:\n",
        "        return mid\n",
        "    else:\n",
        "        return mid+1\n",
        "\n",
        "searchInsert(nums = [1,3,5,6], target = 2)"
      ],
      "metadata": {
        "colab": {
          "base_uri": "https://localhost:8080/"
        },
        "id": "8MSZEALlMx3v",
        "outputId": "2b04c389-a79a-4c97-808b-617104d22a0b"
      },
      "execution_count": null,
      "outputs": [
        {
          "output_type": "execute_result",
          "data": {
            "text/plain": [
              "1"
            ]
          },
          "metadata": {},
          "execution_count": 2
        }
      ]
    },
    {
      "cell_type": "code",
      "source": [
        "# First Bad Version\n",
        "# https://leetcode.com/problems/first-bad-version/description/\n",
        "# Time: O(logn)\n",
        "# Space: O(1)\n",
        "\n",
        "def isBadVersion(version: int) -> bool:\n",
        "    # returns True/False\n",
        "    pass\n",
        "\n",
        "def firstBadVersion(n: int) -> int:\n",
        "    # There is no Version 0\n",
        "    left = 1\n",
        "    right = n\n",
        "\n",
        "    while left < right:\n",
        "        mid = (left+right)//2\n",
        "        # If mid is bad version, first bad version is in [left, mid]\n",
        "        if isBadVersion(mid):\n",
        "            right = mid\n",
        "        # Bad version present in right half\n",
        "        else:\n",
        "            left = mid+1\n",
        "\n",
        "    return left"
      ],
      "metadata": {
        "id": "5vlMPCmkOWST"
      },
      "execution_count": null,
      "outputs": []
    },
    {
      "cell_type": "code",
      "source": [
        "# Valid Perfect Square\n",
        "# https://leetcode.com/problems/valid-perfect-square/\n",
        "# Time: O(logn)\n",
        "# Space: O(1)\n",
        "\n",
        "def isPerfectSquare(num: int) -> bool:\n",
        "    left = 1\n",
        "    right = num\n",
        "\n",
        "    while left <= right:\n",
        "        mid = (left+right)//2\n",
        "        if mid ** 2 == num:\n",
        "            return True\n",
        "        elif mid ** 2 > num:\n",
        "            right = mid-1\n",
        "        else:\n",
        "            left = mid+1\n",
        "\n",
        "    return False\n",
        "\n",
        "isPerfectSquare(81)"
      ],
      "metadata": {
        "colab": {
          "base_uri": "https://localhost:8080/"
        },
        "id": "XkY1NxE-RQE3",
        "outputId": "6ac5d214-3239-4056-cdf2-e48c63c58f28"
      },
      "execution_count": null,
      "outputs": [
        {
          "output_type": "execute_result",
          "data": {
            "text/plain": [
              "True"
            ]
          },
          "metadata": {},
          "execution_count": 3
        }
      ]
    },
    {
      "cell_type": "code",
      "source": [
        "# Search a 2D Matrix\n",
        "# https://leetcode.com/problems/search-a-2d-matrix/description/\n",
        "# Time: O(logn)\n",
        "# Space: O(1)\n",
        "\n",
        "def searchMatrix(matrix: list[list[int]], target: int) -> bool:\n",
        "    m = len(matrix)\n",
        "    n = len(matrix[0])\n",
        "\n",
        "    total = m*n\n",
        "\n",
        "    low = 0\n",
        "    high = total-1\n",
        "\n",
        "    while low <= high:\n",
        "        mid = (low+high)//2\n",
        "        i, j = mid//n, mid%n\n",
        "        if matrix[i][j] == target:\n",
        "            return True\n",
        "        elif matrix[i][j] > target:\n",
        "            high = mid-1\n",
        "        else:\n",
        "            low = mid+1\n",
        "\n",
        "    return False\n",
        "\n",
        "searchMatrix(matrix = [[1,3,5,7],[10,11,16,20],[23,30,34,60]], target = 3)"
      ],
      "metadata": {
        "colab": {
          "base_uri": "https://localhost:8080/"
        },
        "id": "H2lWbYqfTp4F",
        "outputId": "06692b26-f163-4209-b5a6-d39793692cf2"
      },
      "execution_count": null,
      "outputs": [
        {
          "output_type": "execute_result",
          "data": {
            "text/plain": [
              "True"
            ]
          },
          "metadata": {},
          "execution_count": 4
        }
      ]
    },
    {
      "cell_type": "code",
      "source": [
        "# Find Minimum in Rotated Sorted Array\n",
        "# https://leetcode.com/problems/find-minimum-in-rotated-sorted-array/description/\n",
        "# Time: O(logn)\n",
        "# Space: O(1)\n",
        "\n",
        "def findMin(nums: list[int]) -> int:\n",
        "    n = len(nums)\n",
        "    left = 0\n",
        "    right = n-1\n",
        "\n",
        "    while left < right:\n",
        "        mid = (left+right)//2\n",
        "\n",
        "        if nums[mid] > nums[right]:\n",
        "            left = mid+1\n",
        "\n",
        "        else:\n",
        "            right = mid\n",
        "\n",
        "    return nums[left]\n",
        "\n",
        "findMin(nums = [4,5,6,7,0,1,2])"
      ],
      "metadata": {
        "colab": {
          "base_uri": "https://localhost:8080/"
        },
        "id": "qnlXkVuXU0MV",
        "outputId": "3a2a683f-13b3-41f2-e55e-7b828b53a51f"
      },
      "execution_count": null,
      "outputs": [
        {
          "output_type": "execute_result",
          "data": {
            "text/plain": [
              "0"
            ]
          },
          "metadata": {},
          "execution_count": 6
        }
      ]
    },
    {
      "cell_type": "code",
      "source": [
        "# Search in Rotated Sorted Array\n",
        "# https://leetcode.com/problems/search-in-rotated-sorted-array/description/\n",
        "# Time: O(logn)\n",
        "# Space: O(1)\n",
        "\n",
        "def search(nums: list[int], target: int) -> int:\n",
        "    n = len(nums)\n",
        "    left = 0\n",
        "    right = n-1\n",
        "\n",
        "    # Find minimum index\n",
        "    while left < right:\n",
        "        mid = (left+right)//2\n",
        "        if nums[mid] > nums[right]:\n",
        "            left = mid+1\n",
        "        else:\n",
        "            right = mid\n",
        "    min_i = left\n",
        "\n",
        "    # Ranges in which target can be present\n",
        "    if min_i == 0:\n",
        "        l, r = 0, n-1\n",
        "    elif target >= nums[0] and target <= nums[min_i-1]:\n",
        "        l, r = 0, min_i-1\n",
        "    else:\n",
        "        l, r = min_i, n-1\n",
        "\n",
        "    # Search for target\n",
        "    while l <= r:\n",
        "        mid = (l+r)//2\n",
        "        if nums[mid] == target:\n",
        "            return mid\n",
        "        elif nums[mid] > target:\n",
        "            r = mid-1\n",
        "        else:\n",
        "            l = mid+1\n",
        "\n",
        "    return -1\n",
        "\n",
        "search(nums = [4,5,6,7,0,1,2], target = 0)"
      ],
      "metadata": {
        "colab": {
          "base_uri": "https://localhost:8080/"
        },
        "id": "AKJikQJyUyw8",
        "outputId": "a0f10963-3217-4bfe-95ac-95e7e29665aa"
      },
      "execution_count": null,
      "outputs": [
        {
          "output_type": "execute_result",
          "data": {
            "text/plain": [
              "4"
            ]
          },
          "metadata": {},
          "execution_count": 5
        }
      ]
    },
    {
      "cell_type": "code",
      "source": [
        "# Koko Eating Bananas\n",
        "# https://leetcode.com/problems/koko-eating-bananas/description/\n",
        "# Time: O(n * log(max(p)))\n",
        "# Space: O(1)\n",
        "\n",
        "import math\n",
        "def minEatingSpeed(piles: list[int], h: int) -> int:\n",
        "    def satisfy_condition(k):\n",
        "        h_taken = sum([math.ceil(pile/k) for pile in piles])\n",
        "        return h_taken <= h\n",
        "\n",
        "    left = 1\n",
        "    right = max(piles)\n",
        "\n",
        "    while left < right:\n",
        "        mid = (left+right)//2\n",
        "        if satisfy_condition(mid):\n",
        "            right = mid\n",
        "        else:\n",
        "            left = mid+1\n",
        "\n",
        "    return right\n",
        "\n",
        "minEatingSpeed(piles = [30,11,23,4,20], h = 6)"
      ],
      "metadata": {
        "colab": {
          "base_uri": "https://localhost:8080/"
        },
        "id": "q5ZVzQYEe6eE",
        "outputId": "5f3f2e2d-628b-4b4c-9d08-127867f07939"
      },
      "execution_count": null,
      "outputs": [
        {
          "output_type": "execute_result",
          "data": {
            "text/plain": [
              "23"
            ]
          },
          "metadata": {},
          "execution_count": 8
        }
      ]
    },
    {
      "cell_type": "markdown",
      "source": [
        "# SLIDING WINDOW"
      ],
      "metadata": {
        "id": "k7PZJRo5sFFa"
      }
    },
    {
      "cell_type": "code",
      "source": [
        "# Maximum Average Subarray I\n",
        "# https://leetcode.com/problems/maximum-average-subarray-i/description/\n",
        "# Time: O(n)\n",
        "# Space: O(1)\n",
        "\n",
        "def findMaxAverage(nums: list[int], k: int) -> float:\n",
        "    n = len(nums)\n",
        "    curr_sum = 0\n",
        "\n",
        "    for i in range(k):\n",
        "        curr_sum += nums[i]\n",
        "\n",
        "    max_sum = curr_sum\n",
        "\n",
        "    for i in range(k, n):\n",
        "        curr_sum -= nums[i-k]\n",
        "        curr_sum += nums[i]\n",
        "        max_sum = max(curr_sum, max_sum)\n",
        "\n",
        "    return max_sum/k\n",
        "\n",
        "findMaxAverage(nums = [1,12,-5,-6,50,3], k = 4)"
      ],
      "metadata": {
        "colab": {
          "base_uri": "https://localhost:8080/"
        },
        "id": "zHJT2xT3e5zF",
        "outputId": "07a4d466-8c5e-48ec-dcf2-eb99cc220b23"
      },
      "execution_count": null,
      "outputs": [
        {
          "output_type": "execute_result",
          "data": {
            "text/plain": [
              "12.75"
            ]
          },
          "metadata": {},
          "execution_count": 10
        }
      ]
    },
    {
      "cell_type": "code",
      "source": [
        "# Max Consecutive Ones III\n",
        "# https://leetcode.com/problems/max-consecutive-ones-iii/description/\n",
        "# Time: O(n)\n",
        "# Space: O(1)\n",
        "\n",
        "def longestOnes(nums: list[int], k: int) -> int:\n",
        "\n",
        "    max_length = 0\n",
        "    zeroes = 0\n",
        "    n = len(nums)\n",
        "\n",
        "    l = 0\n",
        "    for r in range(n):\n",
        "        if nums[r] == 0:\n",
        "            zeroes += 1\n",
        "\n",
        "        while zeroes > k:\n",
        "            if nums[l] == 0:\n",
        "                zeroes -= 1\n",
        "            l += 1\n",
        "\n",
        "        if zeroes <= k:\n",
        "            max_length = max(max_length, r-l+1)\n",
        "\n",
        "    return max_length\n",
        "\n",
        "longestOnes(nums = [0,0,1,1,0,0,1,1,1,0,1,1,0,0,0,1,1,1,1], k = 3)"
      ],
      "metadata": {
        "colab": {
          "base_uri": "https://localhost:8080/"
        },
        "id": "BDvfALKG2qr9",
        "outputId": "890d6df5-d4d0-413c-adad-f5e16930e563"
      },
      "execution_count": null,
      "outputs": [
        {
          "output_type": "execute_result",
          "data": {
            "text/plain": [
              "10"
            ]
          },
          "metadata": {},
          "execution_count": 9
        }
      ]
    },
    {
      "cell_type": "code",
      "source": [
        "# Longest Substring Without Repeating Characters\n",
        "# https://leetcode.com/problems/longest-substring-without-repeating-characters/description/\n",
        "# Time: O(n)\n",
        "# Space: O(1)\n",
        "\n",
        "def lengthOfLongestSubstring(s: str) -> int:\n",
        "    n = len(s)\n",
        "\n",
        "    max_length = 0\n",
        "    left = 0\n",
        "    set_c = set()\n",
        "    for right in range(n):\n",
        "        while s[right] in set_c:\n",
        "            set_c.remove(s[left])\n",
        "            left += 1\n",
        "\n",
        "        w = right-left+1\n",
        "        max_length = max(max_length, w)\n",
        "        set_c.add(s[right])\n",
        "\n",
        "    return max_length\n",
        "\n",
        "lengthOfLongestSubstring('abcabcbb')"
      ],
      "metadata": {
        "id": "b-63tLxx238l",
        "colab": {
          "base_uri": "https://localhost:8080/"
        },
        "outputId": "f3684570-321c-421a-a5f5-90e3b72aa6aa"
      },
      "execution_count": null,
      "outputs": [
        {
          "output_type": "execute_result",
          "data": {
            "text/plain": [
              "3"
            ]
          },
          "metadata": {},
          "execution_count": 1
        }
      ]
    },
    {
      "cell_type": "code",
      "source": [
        "# Longest Repeating Character Replacement\n",
        "# https://leetcode.com/problems/longest-repeating-character-replacement/description/\n",
        "# Time: O(n)\n",
        "# Space: O(1)\n",
        "\n",
        "def characterReplacement(s: str, k: int) -> int:\n",
        "\n",
        "    n = len(s)\n",
        "    max_length = 0\n",
        "\n",
        "    l = 0\n",
        "    hashmap = [0]*26\n",
        "    for r in range(n):\n",
        "        hashmap[ord(s[r])-ord('A')] += 1\n",
        "        while (r-l+1)-max(hashmap) > k:\n",
        "            hashmap[ord(s[l])-ord('A')] -= 1\n",
        "            l += 1\n",
        "        w = r-l+1\n",
        "        max_length = max(max_length, w)\n",
        "\n",
        "    return max_length\n",
        "\n",
        "characterReplacement(s = \"AABABBA\", k = 1)"
      ],
      "metadata": {
        "colab": {
          "base_uri": "https://localhost:8080/"
        },
        "id": "eLQP3xt20ZNk",
        "outputId": "6c06e6fe-1c2f-44fb-c277-eb67c8666fbc"
      },
      "execution_count": null,
      "outputs": [
        {
          "output_type": "execute_result",
          "data": {
            "text/plain": [
              "4"
            ]
          },
          "metadata": {},
          "execution_count": 3
        }
      ]
    },
    {
      "cell_type": "code",
      "source": [
        "# Minimum Size Subarray Sum\n",
        "# https://leetcode.com/problems/minimum-size-subarray-sum/description/\n",
        "# Time: O(n)\n",
        "# Space: O(1)\n",
        "\n",
        "def minSubArrayLen(target: int, nums: list[int]) -> int:\n",
        "\n",
        "    n = len(nums)\n",
        "\n",
        "    min_length = float('inf')\n",
        "    l = 0\n",
        "    curr_sum = 0\n",
        "    found = False\n",
        "\n",
        "    for r in range(n):\n",
        "        curr_sum += nums[r]\n",
        "        while curr_sum >= target:\n",
        "            w = r-l + 1\n",
        "            min_length = min(min_length, w)\n",
        "            curr_sum -= nums[l]\n",
        "            l += 1\n",
        "\n",
        "    return min_length if min_length < float('inf') else 0\n",
        "\n",
        "minSubArrayLen(target = 7, nums = [2,3,1,2,4,3])"
      ],
      "metadata": {
        "colab": {
          "base_uri": "https://localhost:8080/"
        },
        "id": "C8bGKKdz6Gb4",
        "outputId": "f769f359-387b-4dfd-98c7-13a8100120da"
      },
      "execution_count": null,
      "outputs": [
        {
          "output_type": "execute_result",
          "data": {
            "text/plain": [
              "2"
            ]
          },
          "metadata": {},
          "execution_count": 4
        }
      ]
    },
    {
      "cell_type": "code",
      "source": [
        "# Permutation in String\n",
        "# https://leetcode.com/problems/permutation-in-string/description/\n",
        "# Time: O(n)\n",
        "# Space: O(1)\n",
        "\n",
        "def checkInclusion(s1: str, s2: str) -> bool:\n",
        "    n1 = len(s1)\n",
        "    n2 = len(s2)\n",
        "\n",
        "    if n1 > n2:\n",
        "        return False\n",
        "\n",
        "    hashmap1 = [0] * 26\n",
        "    hashmap2 = [0] * 26\n",
        "\n",
        "    for i in range(n1):\n",
        "        hashmap1[ord(s1[i])-ord('a')] += 1\n",
        "        hashmap2[ord(s2[i])-ord('a')] += 1\n",
        "\n",
        "    if hashmap1 == hashmap2: return True\n",
        "\n",
        "    for i in range(n1, n2):\n",
        "        hashmap2[ord(s2[i])-ord('a')] += 1\n",
        "        hashmap2[ord(s2[i-n1])-ord('a')] -= 1\n",
        "        if hashmap1 == hashmap2: return True\n",
        "\n",
        "    return False\n",
        "\n",
        "checkInclusion(s1 = \"ab\", s2 = \"eidbaooo\")"
      ],
      "metadata": {
        "colab": {
          "base_uri": "https://localhost:8080/"
        },
        "id": "Fi9kBsvs-ns-",
        "outputId": "91dbd113-72c6-4f70-a114-9fd3fe8fe12a"
      },
      "execution_count": null,
      "outputs": [
        {
          "output_type": "execute_result",
          "data": {
            "text/plain": [
              "True"
            ]
          },
          "metadata": {},
          "execution_count": 5
        }
      ]
    },
    {
      "cell_type": "markdown",
      "source": [
        "# TREES"
      ],
      "metadata": {
        "id": "zeVqZcyaCYnV"
      }
    },
    {
      "cell_type": "code",
      "source": [
        "# IMPLEMENT TREE CLASS\n",
        "\n",
        "class TreeNode:\n",
        "    def __init__(self, val=0, left=None, right=None):\n",
        "        self.val = val\n",
        "        self.left = left\n",
        "        self.right = right"
      ],
      "metadata": {
        "id": "a8BLRrkCCJ8B"
      },
      "execution_count": null,
      "outputs": []
    },
    {
      "cell_type": "code",
      "source": [
        "# Invert Binary Tree\n",
        "# https://leetcode.com/problems/invert-binary-tree/description/\n",
        "# Time: O(n)\n",
        "# Space: O(h)\n",
        "\n",
        "def invertTree(root: Optional[TreeNode]) -> Optional[TreeNode]:\n",
        "    nodes = collections.deque()\n",
        "    nodes.append(root)\n",
        "\n",
        "    while nodes:\n",
        "        curr = nodes.popleft()\n",
        "        if curr:\n",
        "            nodes.append(curr.left)\n",
        "            nodes.append(curr.right)\n",
        "            curr.left, curr.right = curr.right, curr.left\n",
        "\n",
        "    return root"
      ],
      "metadata": {
        "id": "ZCqBXCf2CaMo"
      },
      "execution_count": null,
      "outputs": []
    },
    {
      "cell_type": "code",
      "source": [
        "# Maximum Depth of Binary Tree\n",
        "# https://leetcode.com/problems/maximum-depth-of-binary-tree/description/\n",
        "# Time: O(n)\n",
        "# Space: O(h)\n",
        "\n",
        "def maxDepth(root: Optional[TreeNode]) -> int:\n",
        "\n",
        "    if not root:\n",
        "        return 0\n",
        "\n",
        "    return 1 + max(maxDepth(root.left), maxDepth(root.right))\n"
      ],
      "metadata": {
        "id": "NYk1cjskFhHU"
      },
      "execution_count": null,
      "outputs": []
    },
    {
      "cell_type": "code",
      "source": [
        "# Balanced Binary Tree\n",
        "# https://leetcode.com/problems/balanced-binary-tree/description/\n",
        "# Time: O(n)\n",
        "# Space: O(h)\n",
        "\n",
        "def isBalanced(root: Optional[TreeNode]) -> bool:\n",
        "\n",
        "    balanced = [True]\n",
        "\n",
        "    def maxDepth(node):\n",
        "\n",
        "        if not node:\n",
        "            return 0\n",
        "\n",
        "        left_height = maxDepth(node.left)\n",
        "        if balanced[0] == False:\n",
        "            return 0\n",
        "        right_height = maxDepth(node.right)\n",
        "\n",
        "        if abs(left_height-right_height) > 1:\n",
        "            balanced[0] = False\n",
        "            return 0\n",
        "\n",
        "        return 1 + max(left_height, right_height)\n",
        "\n",
        "    maxDepth(root)\n",
        "    return balanced[0]\n"
      ],
      "metadata": {
        "id": "s1X2REWQFhoY"
      },
      "execution_count": null,
      "outputs": []
    },
    {
      "cell_type": "code",
      "source": [
        "# Diameter of Binary Tree\n",
        "# https://leetcode.com/problems/diameter-of-binary-tree/description/\n",
        "# Time: O(n)\n",
        "# Space: O(h)\n",
        "\n",
        "def diameterOfBinaryTree(root: Optional[TreeNode]) -> int:\n",
        "\n",
        "    diameter = [0]\n",
        "\n",
        "    def maxHeight(node):\n",
        "        if not node:\n",
        "            return 0\n",
        "\n",
        "        left_height = maxHeight(node.left)\n",
        "        right_height = maxHeight(node.right)\n",
        "        curr_diameter = left_height + right_height\n",
        "        diameter[0] = max(diameter[0], curr_diameter)\n",
        "\n",
        "        return 1 + max(left_height, right_height)\n",
        "\n",
        "    maxHeight(root)\n",
        "    return diameter[0]\n"
      ],
      "metadata": {
        "id": "7JFB5zPhHTdV"
      },
      "execution_count": null,
      "outputs": []
    },
    {
      "cell_type": "code",
      "source": [
        "# Same Tree\n",
        "# https://leetcode.com/problems/same-tree/description/\n",
        "# Time: O(n)\n",
        "# Space: O(h)\n",
        "\n",
        "def isSameTree(p: Optional[TreeNode], q: Optional[TreeNode]) -> bool:\n",
        "\n",
        "    if not p and not q:\n",
        "        return True\n",
        "    if (not p and q) or (not q and p):\n",
        "        return False\n",
        "    if p.val != q.val:\n",
        "        return False\n",
        "\n",
        "    return isSameTree(p.left, q.left) and isSameTree(p.right, q.right)\n"
      ],
      "metadata": {
        "id": "9hDnqfCpHTZ3"
      },
      "execution_count": null,
      "outputs": []
    },
    {
      "cell_type": "code",
      "source": [
        "# Symmetric Tree\n",
        "# https://leetcode.com/problems/symmetric-tree/description/\n",
        "# Time: O(n)\n",
        "# Space: O(n)\n",
        "\n",
        "def isSymmetric(root: Optional[TreeNode]) -> bool:\n",
        "\n",
        "    if not root:\n",
        "        return True\n",
        "\n",
        "    left = root.left\n",
        "    right = root.right\n",
        "\n",
        "    left_nodes = collections.deque()\n",
        "    left_nodes.append(left)\n",
        "    right_nodes = collections.deque()\n",
        "    right_nodes.append(right)\n",
        "\n",
        "    while left_nodes and right_nodes:\n",
        "        left_node = left_nodes.popleft()\n",
        "        right_node = right_nodes.popleft()\n",
        "\n",
        "        if not right_node and not left_node:\n",
        "            continue\n",
        "        if (not right_node and left_node) or (right_node and not left_node):\n",
        "            return False\n",
        "        if right_node.val != left_node.val:\n",
        "            return False\n",
        "\n",
        "        left_nodes.append(left_node.left)\n",
        "        left_nodes.append(left_node.right)\n",
        "        right_nodes.append(right_node.right)\n",
        "        right_nodes.append(right_node.left)\n",
        "\n",
        "    return True\n"
      ],
      "metadata": {
        "id": "R77k0apjHTX7"
      },
      "execution_count": null,
      "outputs": []
    },
    {
      "cell_type": "code",
      "source": [
        "# Path Sum\n",
        "# https://leetcode.com/problems/path-sum/description/\n",
        "# Time: O(n)\n",
        "# Space: O(h)\n",
        "\n",
        "def hasPathSum(root: Optional[TreeNode], targetSum: int) -> bool:\n",
        "\n",
        "    def searchTargetSum(node, curr_sum):\n",
        "        if not node:\n",
        "            return False\n",
        "\n",
        "        curr_sum += node.val\n",
        "\n",
        "        if not node.left and not node.right:\n",
        "            return curr_sum == targetSum\n",
        "\n",
        "        return searchTargetSum(node.left, curr_sum) or searchTargetSum(node.right, curr_sum)\n",
        "\n",
        "    return searchTargetSum(root, 0)\n"
      ],
      "metadata": {
        "id": "jlqnusxKWKaz"
      },
      "execution_count": null,
      "outputs": []
    },
    {
      "cell_type": "code",
      "source": [
        "# Subtree of Another Tree\n",
        "# https://leetcode.com/problems/subtree-of-another-tree/description/\n",
        "# Time: O(n*m)\n",
        "# Space: O(h)\n",
        "\n",
        "def isSubtree(root: Optional[TreeNode], subRoot: Optional[TreeNode]) -> bool:\n",
        "\n",
        "    def isSame(root1, root2):\n",
        "        if not root1 and not root2:\n",
        "            return True\n",
        "\n",
        "        if (not root1 and root2) or (not root2 and root1):\n",
        "            return False\n",
        "\n",
        "        if root1.val != root2.val:\n",
        "            return False\n",
        "\n",
        "        return isSame(root1.left, root2.left) and isSame(root1.right, root2.right)\n",
        "\n",
        "    nodes = collections.deque()\n",
        "    nodes.append(root)\n",
        "    while nodes:\n",
        "        curr = nodes.popleft()\n",
        "        if isSame(curr, subRoot):\n",
        "            return True\n",
        "        if not curr:\n",
        "            continue\n",
        "        nodes.append(curr.left)\n",
        "        nodes.append(curr.right)\n",
        "\n",
        "    return False\n"
      ],
      "metadata": {
        "id": "lER_pq7uZn6E"
      },
      "execution_count": null,
      "outputs": []
    },
    {
      "cell_type": "code",
      "source": [
        "# Binary Tree Level Order Traversal\n",
        "# https://leetcode.com/problems/binary-tree-level-order-traversal/description/\n",
        "# Time: O(n)\n",
        "# Space: O(n)\n",
        "\n",
        "def levelOrder(root: Optional[TreeNode]) -> list[list[int]]:\n",
        "\n",
        "    if not root:\n",
        "        return []\n",
        "\n",
        "    nodes = collections.deque()\n",
        "    nodes.append(root)\n",
        "    ans = []\n",
        "\n",
        "    while nodes:\n",
        "        level = []\n",
        "        n = len(nodes)\n",
        "        for i in range(n):\n",
        "            curr = nodes.popleft()\n",
        "            level.append(curr.val)\n",
        "            if curr.left:\n",
        "                nodes.append(curr.left)\n",
        "            if curr.right:\n",
        "                nodes.append(curr.right)\n",
        "        ans.append(level)\n",
        "\n",
        "    return ans"
      ],
      "metadata": {
        "id": "fEPQ-vaziO03"
      },
      "execution_count": null,
      "outputs": []
    },
    {
      "cell_type": "code",
      "source": [
        "# Binary Tree Inorder Traversal\n",
        "# https://leetcode.com/problems/binary-tree-inorder-traversal/description/?envType=problem-list-v2&envId=depth-first-search\n",
        "# Time: O(n)\n",
        "# Space: O(n)\n",
        "\n",
        "def inorderTraversal(root: Optional[TreeNode]) -> list[int]:\n",
        "\n",
        "    ans = []\n",
        "    def dfs(root):\n",
        "        if not root:\n",
        "            return\n",
        "        dfs(root.left)\n",
        "        ans.append(root.val)\n",
        "        dfs(root.right)\n",
        "\n",
        "    dfs(root)\n",
        "    return ans"
      ],
      "metadata": {
        "id": "9bAamijxXSmC"
      },
      "execution_count": null,
      "outputs": []
    },
    {
      "cell_type": "code",
      "source": [
        "# Kth Smallest Element in a BST\n",
        "# https://leetcode.com/problems/kth-smallest-element-in-a-bst/description/\n",
        "# Time: O(n)\n",
        "# Space: O(n)\n",
        "\n",
        "def kthSmallest(root: Optional[TreeNode], k: int) -> int:\n",
        "\n",
        "    count = [k]\n",
        "    ans = [0]\n",
        "\n",
        "    def dfs(root):\n",
        "        if not root:\n",
        "            return\n",
        "\n",
        "        dfs(root.left)\n",
        "        if count[0] == 1:\n",
        "            ans[0] = root.val\n",
        "\n",
        "        count[0] -= 1\n",
        "\n",
        "        if count[0] > 0:\n",
        "            dfs(root.right)\n",
        "\n",
        "    dfs(root)\n",
        "    return ans[0]"
      ],
      "metadata": {
        "id": "xh5Xdl6lmOs7"
      },
      "execution_count": null,
      "outputs": []
    },
    {
      "cell_type": "code",
      "source": [
        "# Minimum Absolute Difference in BST\n",
        "# https://leetcode.com/problems/minimum-absolute-difference-in-bst/description/\n",
        "# Time: O(n)\n",
        "# Space: O(1)\n",
        "\n",
        "def getMinimumDifference(root: Optional[TreeNode]) -> int:\n",
        "\n",
        "    prev = [None]\n",
        "    least_diff = [float('inf')]\n",
        "\n",
        "    def dfs(root):\n",
        "        if not root:\n",
        "            return\n",
        "\n",
        "        if root.left: dfs(root.left)\n",
        "\n",
        "        if prev[0] is not None:\n",
        "            least_diff[0] = min(least_diff[0], root.val-prev[0])\n",
        "        prev[0] = root.val\n",
        "\n",
        "        if root.right: dfs(root.right)\n",
        "\n",
        "    dfs(root)\n",
        "\n",
        "    return least_diff[0]\n"
      ],
      "metadata": {
        "colab": {
          "base_uri": "https://localhost:8080/"
        },
        "id": "CL6aXQ4PoLqG",
        "outputId": "76891e64-4057-4f79-f716-9c4769b6e4eb"
      },
      "execution_count": null,
      "outputs": [
        {
          "output_type": "execute_result",
          "data": {
            "text/plain": [
              "[2, 3, 4]"
            ]
          },
          "metadata": {},
          "execution_count": 10
        }
      ]
    },
    {
      "cell_type": "code",
      "source": [
        "# Validate Binary Search Tree\n",
        "# https://leetcode.com/problems/validate-binary-search-tree/description/\n",
        "# Time: O(n)\n",
        "# Space: O(1)\n",
        "\n",
        "def isValidBST(root: Optional[TreeNode]) -> bool:\n",
        "\n",
        "    prev = [None]\n",
        "    isValid = [True]\n",
        "\n",
        "    def dfs(root):\n",
        "\n",
        "        if not root:\n",
        "            return\n",
        "\n",
        "        dfs(root.left)\n",
        "        if prev[0] is not None:\n",
        "            if prev[0] >= root.val:\n",
        "                isValid[0] = False\n",
        "\n",
        "        prev[0] = root.val\n",
        "        dfs(root.right)\n",
        "\n",
        "    dfs(root)\n",
        "    return isValid[0]\n"
      ],
      "metadata": {
        "id": "ZGEs98GsoObV"
      },
      "execution_count": null,
      "outputs": []
    },
    {
      "cell_type": "code",
      "source": [
        "# Lowest Common Ancestor of a Binary Search Tree\n",
        "# https://leetcode.com/problems/lowest-common-ancestor-of-a-binary-search-tree/description/\n",
        "# Time: O(n)\n",
        "# Space: O(1)\n",
        "\n",
        "def lowestCommonAncestor(self, root: 'TreeNode', p: 'TreeNode', q: 'TreeNode') -> 'TreeNode':\n",
        "\n",
        "    if root.val > max(p.val, q.val):\n",
        "        return self.lowestCommonAncestor(root.left, p, q)\n",
        "    if root.val < min(p.val, q.val):\n",
        "        return self.lowestCommonAncestor(root.right, p, q)\n",
        "    return root\n"
      ],
      "metadata": {
        "id": "v5NtHleSyBtC"
      },
      "execution_count": null,
      "outputs": []
    },
    {
      "cell_type": "code",
      "source": [
        "# Implement Trie (Prefix Tree)\n",
        "# https://leetcode.com/problems/implement-trie-prefix-tree/description/\n",
        "# Time: O(n)\n",
        "# Space: O(n)\n",
        "\n",
        "class Trie:\n",
        "\n",
        "    def __init__(self):\n",
        "        self.trie = {}\n",
        "\n",
        "    def insert(self, word: str) -> None:\n",
        "        d = self.trie\n",
        "\n",
        "        for c in word:\n",
        "            if c not in d:\n",
        "                d[c] = {}\n",
        "            d = d[c]\n",
        "        d['$'] = '$'\n",
        "\n",
        "    def search(self, word: str) -> bool:\n",
        "        d = self.trie\n",
        "\n",
        "        for c in word:\n",
        "            if c not in d:\n",
        "                return False\n",
        "            d = d[c]\n",
        "        return '$' in d\n",
        "\n",
        "    def startsWith(self, prefix: str) -> bool:\n",
        "\n",
        "        d = self.trie\n",
        "        for c in prefix:\n",
        "            if c not in d:\n",
        "                return False\n",
        "            d = d[c]\n",
        "        return True\n"
      ],
      "metadata": {
        "id": "1vW77CShyBHA"
      },
      "execution_count": null,
      "outputs": []
    },
    {
      "cell_type": "code",
      "source": [
        "# Design Add and Search Words Data Structure\n",
        "# https://leetcode.com/problems/design-add-and-search-words-data-structure/description/\n",
        "# Time: O(n)\n",
        "# Space: O(n)\n",
        "\n",
        "class TrieNode:\n",
        "    def __init__(self):\n",
        "        self.children = {}\n",
        "        self.word = False\n",
        "\n",
        "class WordDictionary:\n",
        "\n",
        "    def __init__(self):\n",
        "        self.root = TrieNode()\n",
        "\n",
        "    def addWord(self, word: str) -> None:\n",
        "        d = self.root\n",
        "        for c in word:\n",
        "            if c not in d.children:\n",
        "                d.children[c] = TrieNode()\n",
        "            d = d.children[c]\n",
        "        d.word = True\n",
        "\n",
        "    def search(self, word: str) -> bool:\n",
        "\n",
        "        def dfs(root, i):\n",
        "          curr = root\n",
        "          for j in range(i, len(word)):\n",
        "              c = word[j]\n",
        "              if c == '.':\n",
        "                  for child in curr.children.values():\n",
        "                      if dfs(child, j+1):\n",
        "                          return True\n",
        "                  return False\n",
        "              else:\n",
        "                  if c not in curr.children:\n",
        "                      return False\n",
        "                  curr = curr.children[c]\n",
        "          return curr.word\n",
        "\n",
        "        return dfs(self.root, 0)\n",
        "\n",
        "# Your WordDictionary object will be instantiated and called as such:\n",
        "obj = WordDictionary()\n",
        "word = 'apple'\n",
        "obj.addWord(word)\n",
        "word = 'cap'\n",
        "obj.addWord(word)\n",
        "param_2 = obj.search(word)\n",
        "\n",
        "print(param_2)"
      ],
      "metadata": {
        "colab": {
          "base_uri": "https://localhost:8080/"
        },
        "id": "Og9-WjKk3a_v",
        "outputId": "2ef71cc0-8b93-4f5b-8b8e-72214bee9904"
      },
      "execution_count": null,
      "outputs": [
        {
          "output_type": "stream",
          "name": "stdout",
          "text": [
            "True\n"
          ]
        }
      ]
    },
    {
      "cell_type": "markdown",
      "source": [
        "# HEAPS, PRIORITY Qs"
      ],
      "metadata": {
        "id": "qDAKYU1USllt"
      }
    },
    {
      "cell_type": "code",
      "source": [
        "# Last Stone Weight\n",
        "# https://leetcode.com/problems/last-stone-weight/description/\n",
        "# Time: O(n*logn)\n",
        "# Space: O(1)\n",
        "\n",
        "def lastStoneWeight(stones: list[int]) -> int:\n",
        "\n",
        "    import heapq\n",
        "    stones = [-stone for stone in stones]\n",
        "    heapq.heapify(stones)\n",
        "\n",
        "    while len(stones) > 1:\n",
        "        x = -heapq.heappop(stones)\n",
        "        y = -heapq.heappop(stones)\n",
        "        if x != y:\n",
        "            val = y-x\n",
        "            heapq.heappush(stones, val)\n",
        "\n",
        "    if stones:\n",
        "        return -stones[0]\n",
        "    else:\n",
        "        return 0\n",
        "\n",
        "lastStoneWeight(stones = [2,7,4,1,8,1])"
      ],
      "metadata": {
        "id": "8KssidL68XXX",
        "colab": {
          "base_uri": "https://localhost:8080/"
        },
        "outputId": "1e16e401-5a11-46f6-c2df-a10b06a1855c"
      },
      "execution_count": null,
      "outputs": [
        {
          "output_type": "execute_result",
          "data": {
            "text/plain": [
              "1"
            ]
          },
          "metadata": {},
          "execution_count": 8
        }
      ]
    },
    {
      "cell_type": "code",
      "source": [
        "# Solution 1\n",
        "# Kth Largest Element in an Array\n",
        "# https://leetcode.com/problems/kth-largest-element-in-an-array/description/\n",
        "# Time: O(n + k*logn) ~ O(n)\n",
        "# Space: O(1)\n",
        "\n",
        "def findKthLargest(nums: list[int], k: int) -> int:\n",
        "    import heapq\n",
        "    nums = [-num for num in nums]\n",
        "    heapq.heapify(nums)\n",
        "\n",
        "    while k:\n",
        "        max_ = heapq.heappop(nums)\n",
        "        k -= 1\n",
        "\n",
        "    return -max_\n",
        "\n",
        "findKthLargest(nums = [3,2,3,1,2,4,5,5,6], k = 4)"
      ],
      "metadata": {
        "colab": {
          "base_uri": "https://localhost:8080/"
        },
        "id": "A_ha1rAxRu9x",
        "outputId": "950b19e3-8236-43d7-d253-89296c745b02"
      },
      "execution_count": null,
      "outputs": [
        {
          "output_type": "execute_result",
          "data": {
            "text/plain": [
              "4"
            ]
          },
          "metadata": {},
          "execution_count": 9
        }
      ]
    },
    {
      "cell_type": "code",
      "source": [
        "# Solution 1\n",
        "# Kth Largest Element in an Array\n",
        "# https://leetcode.com/problems/kth-largest-element-in-an-array/description/\n",
        "# Time: O(k*logn) ~ O(logn)\n",
        "# Space: O(k)\n",
        "\n",
        "def findKthLargest(nums: list[int], k: int) -> int:\n",
        "    import heapq\n",
        "    min_heap = []\n",
        "\n",
        "    for num in nums:\n",
        "        if len(min_heap) < k:\n",
        "            heapq.heappush(min_heap, num)\n",
        "        else:\n",
        "            heapq.heappushpop(min_heap, num)\n",
        "\n",
        "    return min_heap[0]\n",
        "\n",
        "findKthLargest(nums = [3,2,3,1,2,4,5,5,6], k = 4)"
      ],
      "metadata": {
        "colab": {
          "base_uri": "https://localhost:8080/"
        },
        "id": "utNg0aKCUwRw",
        "outputId": "66644eb2-d654-432e-f3c3-e3850c11b11c"
      },
      "execution_count": null,
      "outputs": [
        {
          "output_type": "execute_result",
          "data": {
            "text/plain": [
              "4"
            ]
          },
          "metadata": {},
          "execution_count": 11
        }
      ]
    },
    {
      "cell_type": "code",
      "source": [
        "# Top K Frequent Elements\n",
        "# https://leetcode.com/problems/top-k-frequent-elements/description/\n",
        "# Time: O(n*logk)\n",
        "# Space: O(n)\n",
        "\n",
        "def topKFrequent(nums: list[int], k: int) -> list[int]:\n",
        "    import heapq\n",
        "    import collections\n",
        "    counter = collections.Counter(nums)\n",
        "    heap = []\n",
        "\n",
        "    for key, val in counter.items():\n",
        "        if len(heap) < k:\n",
        "            heapq.heappush(heap, (val, key))\n",
        "        else:\n",
        "            heapq.heappushpop(heap, (val, key))\n",
        "\n",
        "    return [h[1] for h in heap]\n",
        "\n",
        "topKFrequent(nums = [1,1,1,2,2,3], k = 2)"
      ],
      "metadata": {
        "colab": {
          "base_uri": "https://localhost:8080/"
        },
        "id": "U-P_sPlOVrYX",
        "outputId": "651deb19-6245-47db-8b42-8ac84c1dade1"
      },
      "execution_count": null,
      "outputs": [
        {
          "output_type": "execute_result",
          "data": {
            "text/plain": [
              "[2, 1]"
            ]
          },
          "metadata": {},
          "execution_count": 13
        }
      ]
    },
    {
      "cell_type": "code",
      "source": [
        "# K Closest Points to Origin\n",
        "# https://leetcode.com/problems/k-closest-points-to-origin/description/\n",
        "# Time: O(n*logk)\n",
        "# Space: O(n)\n",
        "\n",
        "def kClosest(points: list[list[int]], k: int) -> list[list[int]]:\n",
        "    import heapq\n",
        "    heap = []\n",
        "\n",
        "    for point in points:\n",
        "        euclid_dist_sq = -(point[0]**2 + point[1]**2)\n",
        "        if len(heap) < k:\n",
        "            heapq.heappush(heap, (euclid_dist_sq, point))\n",
        "        else:\n",
        "            heapq.heappushpop(heap, (euclid_dist_sq, point))\n",
        "\n",
        "    return [h[1] for h in heap]\n",
        "\n",
        "kClosest(points = [[3,3],[5,-1],[-2,4]], k = 2)"
      ],
      "metadata": {
        "colab": {
          "base_uri": "https://localhost:8080/"
        },
        "id": "l6ohGmrlXsB8",
        "outputId": "d61e2f99-80e9-49b5-aebc-248a2c1f8e6b"
      },
      "execution_count": null,
      "outputs": [
        {
          "output_type": "execute_result",
          "data": {
            "text/plain": [
              "[[-2, 4], [3, 3]]"
            ]
          },
          "metadata": {},
          "execution_count": 14
        }
      ]
    },
    {
      "cell_type": "code",
      "source": [
        "# Merge k Sorted Lists\n",
        "# https://leetcode.com/problems/merge-k-sorted-lists/description/\n",
        "# Time: O(n*logn)\n",
        "# Space: O(n*k)\n",
        "\n",
        "def mergeKLists(self, lists: list[Optional[ListNode]]) -> Optional[ListNode]:\n",
        "    import heapq\n",
        "\n",
        "    heap = []\n",
        "\n",
        "    # Add \"count\" as the unique identifier else Python throws error\n",
        "    count = 0\n",
        "    for node in lists:\n",
        "        elem = node\n",
        "        while elem:\n",
        "            heapq.heappush(heap, (-elem.val, count, elem))\n",
        "            elem = elem.next\n",
        "            count += 1\n",
        "\n",
        "    next_node = None\n",
        "    while heap:\n",
        "        elem = heapq.heappop(heap)[-1]\n",
        "        elem.next = next_node\n",
        "        next_node = elem\n",
        "\n",
        "    return next_node\n"
      ],
      "metadata": {
        "id": "_6LwPbwzai5i"
      },
      "execution_count": null,
      "outputs": []
    },
    {
      "cell_type": "markdown",
      "source": [
        "# BACKTRACKING"
      ],
      "metadata": {
        "id": "Y2qYOIBffIXl"
      }
    },
    {
      "cell_type": "code",
      "source": [
        "# Subsets\n",
        "# https://leetcode.com/problems/subsets/description/\n",
        "# Time: O(2^n)\n",
        "# Space: O(n)\n",
        "\n",
        "def subsets(nums: list[int]) -> list[list[int]]:\n",
        "\n",
        "    res, sol = [], []\n",
        "    n = len(nums)\n",
        "\n",
        "    def backtrack(i):\n",
        "        if i == n:\n",
        "            res.append(sol[:])\n",
        "            return\n",
        "\n",
        "        # Do not pick i\n",
        "        backtrack(i+1)\n",
        "\n",
        "        # Pick i\n",
        "        sol.append(nums[i])\n",
        "        backtrack(i+1)\n",
        "        sol.pop()\n",
        "\n",
        "    backtrack(0)\n",
        "    return res\n",
        "\n",
        "subsets(nums = [1,2,3])"
      ],
      "metadata": {
        "colab": {
          "base_uri": "https://localhost:8080/"
        },
        "id": "eRa961MKe6SS",
        "outputId": "28a94d82-9032-4823-c11c-2dc370752016"
      },
      "execution_count": null,
      "outputs": [
        {
          "output_type": "execute_result",
          "data": {
            "text/plain": [
              "[[], [3], [2], [2, 3], [1], [1, 3], [1, 2], [1, 2, 3]]"
            ]
          },
          "metadata": {},
          "execution_count": 15
        }
      ]
    },
    {
      "cell_type": "code",
      "source": [
        "# Permutations\n",
        "# https://leetcode.com/problems/permutations/description/\n",
        "# Time: O(n!)\n",
        "# Space: O(n)\n",
        "\n",
        "def permute(nums: list[int]) -> list[list[int]]:\n",
        "    n = len(nums)\n",
        "    res, sol = [], []\n",
        "\n",
        "    def backtrack():\n",
        "        if len(sol) == n:\n",
        "            res.append(sol[:])\n",
        "            return\n",
        "\n",
        "        for x in nums:\n",
        "            if x not in sol:\n",
        "                sol.append(x)\n",
        "                backtrack()\n",
        "                sol.pop()\n",
        "\n",
        "    backtrack()\n",
        "    return res\n",
        "\n",
        "permute([1, 2, 3])"
      ],
      "metadata": {
        "colab": {
          "base_uri": "https://localhost:8080/"
        },
        "id": "ol_1RJTQlsE6",
        "outputId": "9baf952a-40e9-4a42-8935-278380dc8087"
      },
      "execution_count": null,
      "outputs": [
        {
          "output_type": "execute_result",
          "data": {
            "text/plain": [
              "[[1, 2, 3], [1, 3, 2], [2, 1, 3], [2, 3, 1], [3, 1, 2], [3, 2, 1]]"
            ]
          },
          "metadata": {},
          "execution_count": 18
        }
      ]
    },
    {
      "cell_type": "code",
      "source": [
        "# Binary Tree Paths\n",
        "# https://leetcode.com/problems/binary-tree-paths/description/?envType=problem-list-v2&envId=backtracking\n",
        "# Time: O(n)\n",
        "# Space: O(n)\n",
        "\n",
        "def binaryTreePaths(root: Optional[TreeNode]) -> list[str]:\n",
        "    ans = []\n",
        "\n",
        "    def backtrack(root, sol):\n",
        "        if not root.left and not root.right:\n",
        "            if not sol:\n",
        "                ans.append(str(root.val))\n",
        "            else:\n",
        "                ans.append(sol + '->'+ str(root.val))\n",
        "            return\n",
        "        if root.left:\n",
        "            if not sol:\n",
        "                backtrack(root.left, str(root.val))\n",
        "            else:\n",
        "                backtrack(root.left, sol + '->' + str(root.val))\n",
        "        if root.right:\n",
        "            if not sol:\n",
        "                backtrack(root.right, str(root.val))\n",
        "            else:\n",
        "                backtrack(root.right, sol + '->' + str(root.val))\n",
        "\n",
        "    backtrack(root, '')\n",
        "    return ans"
      ],
      "metadata": {
        "id": "7KC6lfckpSM7"
      },
      "execution_count": null,
      "outputs": []
    },
    {
      "cell_type": "code",
      "source": [
        "# Combinations\n",
        "# https://leetcode.com/problems/combinations/description/\n",
        "# Time: O(nCk)\n",
        "# Space: O(n)\n",
        "\n",
        "def combine(n: int, k: int) -> list[list[int]]:\n",
        "    ans = []\n",
        "\n",
        "    def backtrack(i, sol):\n",
        "        if len(sol) == k:\n",
        "            ans.append(sol)\n",
        "            return\n",
        "        if i == n+1:\n",
        "            return\n",
        "        backtrack(i+1, sol+[i])\n",
        "        backtrack(i+1, sol)\n",
        "\n",
        "    backtrack(1, [])\n",
        "    return ans\n",
        "\n",
        "combine(n = 4, k = 2)"
      ],
      "metadata": {
        "colab": {
          "base_uri": "https://localhost:8080/"
        },
        "id": "lqjnbMxZd2I1",
        "outputId": "39b56742-2743-4c7a-89ee-021dfb1533c2"
      },
      "execution_count": null,
      "outputs": [
        {
          "output_type": "execute_result",
          "data": {
            "text/plain": [
              "[[1, 2], [1, 3], [1, 4], [2, 3], [2, 4], [3, 4]]"
            ]
          },
          "metadata": {},
          "execution_count": 7
        }
      ]
    },
    {
      "cell_type": "code",
      "source": [
        "# Combination Sum\n",
        "# https://leetcode.com/problems/combination-sum/description/\n",
        "# Time: O(n^(T))\n",
        "# Space: O(n)\n",
        "\n",
        "def combinationSum(candidates: list[int], target: int) -> list[list[int]]:\n",
        "    ans = []\n",
        "    n = len(candidates)\n",
        "\n",
        "    def backtrack(index, sol):\n",
        "        if sum(sol) == target:\n",
        "            ans.append(sol)\n",
        "            return\n",
        "        if sum(sol) > target:\n",
        "            return\n",
        "        backtrack(index, sol+[candidates[index]])\n",
        "        if index == n-1:\n",
        "            return\n",
        "        backtrack(index+1, sol)\n",
        "\n",
        "    backtrack(0, [])\n",
        "    return ans\n",
        "\n",
        "combinationSum(candidates = [2,3,5], target = 8)"
      ],
      "metadata": {
        "colab": {
          "base_uri": "https://localhost:8080/"
        },
        "id": "34IM7syIfRTB",
        "outputId": "bfed6da8-5998-4811-c980-e854b3c7a366"
      },
      "execution_count": null,
      "outputs": [
        {
          "output_type": "execute_result",
          "data": {
            "text/plain": [
              "[[2, 2, 2, 2], [2, 3, 3], [3, 5]]"
            ]
          },
          "metadata": {},
          "execution_count": 5
        }
      ]
    },
    {
      "cell_type": "code",
      "source": [
        "# Letter Combinations of a Phone Number\n",
        "# https://leetcode.com/problems/letter-combinations-of-a-phone-number/\n",
        "# Time: O(n^(T))\n",
        "# Space: O(n)\n",
        "\n",
        "def letterCombinations(digits: str) -> list[str]:\n",
        "\n",
        "    mapping = {\n",
        "        '2': 'abc', '3': 'def',\n",
        "        '4': 'ghi', '5': 'jkl', '6': 'mno',\n",
        "        '7': 'pqrs', '8': 'tuv', '9': 'wxyz'\n",
        "    }\n",
        "    n = len(digits)\n",
        "\n",
        "    ans = []\n",
        "\n",
        "    def backtrack(i, sol):\n",
        "        if n and len(sol) == n:\n",
        "            ans.append(sol)\n",
        "            return\n",
        "        if i == n:\n",
        "            return\n",
        "        for x in mapping[digits[i]]:\n",
        "            backtrack(i+1, sol+x)\n",
        "\n",
        "    backtrack(0, '')\n",
        "    return ans\n",
        "\n",
        "letterCombinations('23')"
      ],
      "metadata": {
        "colab": {
          "base_uri": "https://localhost:8080/"
        },
        "id": "ptjF9JMMfRPh",
        "outputId": "a0823394-295a-48c5-f247-1c3b1632dc29"
      },
      "execution_count": null,
      "outputs": [
        {
          "output_type": "stream",
          "name": "stdout",
          "text": [
            "0 \n"
          ]
        },
        {
          "output_type": "execute_result",
          "data": {
            "text/plain": [
              "[]"
            ]
          },
          "metadata": {},
          "execution_count": 13
        }
      ]
    },
    {
      "cell_type": "code",
      "source": [
        "# Word Search\n",
        "# https://leetcode.com/problems/word-search/description/\n",
        "# Time: O((mn)^(2))\n",
        "# Space: O(L)\n",
        "\n",
        "def exist(board: list[list[str]], word: str) -> bool:\n",
        "\n",
        "    doesExist = [False]\n",
        "    k = len(word)\n",
        "    m = len(board)\n",
        "    n = len(board[0])\n",
        "\n",
        "    def backtrack(i, j, curr):\n",
        "        if i > m-1 or j > n-1:\n",
        "            return\n",
        "        if doesExist[0]:\n",
        "            return\n",
        "        if curr == k-1 and board[i][j] == word[curr]:\n",
        "            doesExist[0] = True\n",
        "            return\n",
        "        if curr == k:\n",
        "            return\n",
        "        if board[i][j] != word[curr]:\n",
        "            return\n",
        "        temp = board[i][j]\n",
        "        board[i][j] = '#'\n",
        "        offsets = [(0, 1), (0, -1), (1, 0), (-1, 0)]\n",
        "        for i_off, j_off in offsets:\n",
        "            r, c = i+i_off, j+j_off\n",
        "            if 0 <= r < m and 0 <= c < n:\n",
        "                backtrack(r, c, curr+1)\n",
        "        board[i][j] = temp\n",
        "\n",
        "    for i in range(m):\n",
        "        for j in range(n):\n",
        "            if not doesExist[0]:\n",
        "                backtrack(i, j, 0)\n",
        "\n",
        "    return doesExist[0]\n",
        "\n",
        "\n",
        "exist(board = [[\"A\",\"B\",\"C\",\"E\"],[\"S\",\"F\",\"E\",\"S\"],[\"A\",\"D\",\"E\",\"E\"]], word = \"ABCESEEEFS\")"
      ],
      "metadata": {
        "id": "nJN99A1ZfRNZ",
        "colab": {
          "base_uri": "https://localhost:8080/"
        },
        "outputId": "8f1b2037-087d-4be4-cd05-95c027e3f1b2"
      },
      "execution_count": null,
      "outputs": [
        {
          "output_type": "execute_result",
          "data": {
            "text/plain": [
              "True"
            ]
          },
          "metadata": {},
          "execution_count": 10
        }
      ]
    },
    {
      "cell_type": "markdown",
      "source": [
        "# GRAPHS"
      ],
      "metadata": {
        "id": "lDOX9KIt6fle"
      }
    },
    {
      "cell_type": "code",
      "source": [
        "# Find if Path Exists in Graph\n",
        "# https://leetcode.com/problems/find-if-path-exists-in-graph/description/\n",
        "# Time: O(N+E)\n",
        "# Space: O(N+E)\n",
        "\n",
        "from collections import defaultdict\n",
        "def validPath(n: int, edges: list[list[int]], source: int, destination: int) -> bool:\n",
        "\n",
        "    if source == destination:\n",
        "        return True\n",
        "\n",
        "    graph = defaultdict(list)\n",
        "    for u, v in edges:\n",
        "        graph[u].append(v)\n",
        "        graph[v].append(u)\n",
        "\n",
        "    seen = set()\n",
        "    seen.add(source)\n",
        "    stack = [source]\n",
        "\n",
        "    while stack:\n",
        "        node = stack.pop()\n",
        "        if node == destination:\n",
        "            return True\n",
        "        for neighbor in graph[node]:\n",
        "            if neighbor not in seen:\n",
        "                seen.add(neighbor)\n",
        "                stack.append(neighbor)\n",
        "\n",
        "    return False\n",
        "\n",
        "validPath(n = 6, edges = [[0,1],[0,2],[3,5],[5,4],[4,3]], source = 0, destination = 5)"
      ],
      "metadata": {
        "colab": {
          "base_uri": "https://localhost:8080/"
        },
        "id": "XOlco1tZy_xL",
        "outputId": "fb53779d-7e36-4d14-8119-d2452d853fd6"
      },
      "execution_count": null,
      "outputs": [
        {
          "output_type": "execute_result",
          "data": {
            "text/plain": [
              "False"
            ]
          },
          "metadata": {},
          "execution_count": 12
        }
      ]
    },
    {
      "cell_type": "code",
      "source": [
        "# Number of Islands\n",
        "# https://leetcode.com/problems/number-of-islands/description/\n",
        "# Time: O(m*n)\n",
        "# Space: O(m*n)\n",
        "\n",
        "def numIslands(grid: list[list[str]]) -> int:\n",
        "\n",
        "    m, n = len(grid), len(grid[0])\n",
        "\n",
        "    def dfs(i, j):\n",
        "        if i < 0 or i >= m or j < 0 or j >= n or grid[i][j] != '1':\n",
        "            return\n",
        "        else:\n",
        "            grid[i][j] = '0'\n",
        "            dfs(i, j+1)\n",
        "            dfs(i+1, j)\n",
        "            dfs(i-1, j)\n",
        "            dfs(i, j-1)\n",
        "\n",
        "    islands = 0\n",
        "    for i in range(m):\n",
        "        for j in range(n):\n",
        "            if grid[i][j] == '1':\n",
        "                islands += 1\n",
        "                dfs(i, j)\n",
        "\n",
        "\n",
        "    return islands\n",
        "\n",
        "numIslands(grid = [\n",
        "  [\"1\",\"1\",\"0\",\"0\",\"0\"],\n",
        "  [\"1\",\"1\",\"0\",\"0\",\"0\"],\n",
        "  [\"0\",\"0\",\"1\",\"0\",\"0\"],\n",
        "  [\"0\",\"0\",\"0\",\"1\",\"1\"]\n",
        "])"
      ],
      "metadata": {
        "colab": {
          "base_uri": "https://localhost:8080/"
        },
        "id": "3q7gzIhJ6nrg",
        "outputId": "2598a73b-0710-48d7-b93a-05b7c4a01768"
      },
      "execution_count": null,
      "outputs": [
        {
          "output_type": "execute_result",
          "data": {
            "text/plain": [
              "3"
            ]
          },
          "metadata": {},
          "execution_count": 13
        }
      ]
    },
    {
      "cell_type": "code",
      "source": [
        "# Max Area of Island\n",
        "# https://leetcode.com/problems/max-area-of-island/\n",
        "# Time: O(m*n)\n",
        "# Space: O(m*n)\n",
        "\n"
      ],
      "metadata": {
        "id": "T90Z5QATBi05"
      },
      "execution_count": null,
      "outputs": []
    },
    {
      "cell_type": "code",
      "source": [
        "# Course Schedule\n",
        "# https://leetcode.com/problems/course-schedule/\n",
        "# Time: O(V+E)\n",
        "# Space: O(V+E)\n",
        "\n",
        "def canFinish(numCourses: int, prerequisites: list[list[int]]) -> bool:\n",
        "\n",
        "    edges = defaultdict(list)\n",
        "    for u, v in prerequisites:\n",
        "        edges[u].append(v)\n",
        "\n",
        "    UNVISITED = 0\n",
        "    VISITING = 1\n",
        "    VISITED = 2\n",
        "\n",
        "    stack = edges.keys()\n",
        "    state = [UNVISITED] * numCourses\n",
        "\n",
        "    def dfs(node):\n",
        "        state_node = state[node]\n",
        "        if state_node == VISITED: return True\n",
        "        if state_node == VISITING: return False\n",
        "\n",
        "        state[node] = VISITING\n",
        "        for neighbor in edges[node]:\n",
        "            if not dfs(neighbor): return False\n",
        "        state[node] = VISITED\n",
        "\n",
        "        return True\n",
        "\n",
        "    for i in range(numCourses):\n",
        "        if not dfs(i):\n",
        "            return False\n",
        "\n",
        "    return True\n",
        "\n",
        "canFinish(numCourses = 4, prerequisites = [[1,0],[2,0],[3,1],[3,2]])"
      ],
      "metadata": {
        "colab": {
          "base_uri": "https://localhost:8080/"
        },
        "id": "a_17Gh0q-lTS",
        "outputId": "2ab84a4f-b788-497d-d899-481bb625b5d5"
      },
      "execution_count": null,
      "outputs": [
        {
          "output_type": "execute_result",
          "data": {
            "text/plain": [
              "True"
            ]
          },
          "metadata": {},
          "execution_count": 2
        }
      ]
    },
    {
      "cell_type": "code",
      "source": [
        "# Course Schedule II\n",
        "# https://leetcode.com/problems/course-schedule-ii/description/\n",
        "# Time: O(V+E)\n",
        "# Space: O(V+E)\n",
        "\n",
        "from collections import defaultdict\n",
        "def findOrder(numCourses: int, prerequisites: list[list[int]]) -> list[int]:\n",
        "\n",
        "    edges = defaultdict(list)\n",
        "    for u, v in prerequisites:\n",
        "        edges[u].append(v)\n",
        "\n",
        "    UNVISITED = 0\n",
        "    VISITING = 1\n",
        "    VISITED = 2\n",
        "    state = [UNVISITED] * numCourses\n",
        "\n",
        "    ordered_list = []\n",
        "\n",
        "    def dfs(node):\n",
        "        state_node = state[node]\n",
        "        if state_node == VISITED: return True\n",
        "        if state_node == VISITING: return False\n",
        "        state[node] = VISITING\n",
        "        for neighbor in edges[node]:\n",
        "            if not dfs(neighbor):\n",
        "                return False\n",
        "        state[node] = VISITED\n",
        "        ordered_list.append(node)\n",
        "        return True\n",
        "\n",
        "    for i in range(numCourses):\n",
        "        if not dfs(i):\n",
        "            return []\n",
        "\n",
        "    return ordered_list\n",
        "\n",
        "findOrder(numCourses = 4, prerequisites = [[1,0],[2,0],[3,1],[3,2]])"
      ],
      "metadata": {
        "colab": {
          "base_uri": "https://localhost:8080/"
        },
        "id": "HpUbkMTS9pg3",
        "outputId": "cb68f713-a62c-49cd-cd18-34280d40c826"
      },
      "execution_count": null,
      "outputs": [
        {
          "output_type": "execute_result",
          "data": {
            "text/plain": [
              "[0, 1, 2, 3]"
            ]
          },
          "metadata": {},
          "execution_count": 1
        }
      ]
    },
    {
      "cell_type": "code",
      "source": [
        "# Clone Graph\n",
        "# https://leetcode.com/problems/clone-graph/description/\n",
        "# Time: O(V+E)\n",
        "# Space: O(V)\n",
        "\n",
        "# Definition for a Node.\n",
        "class Node:\n",
        "    def __init__(self, val = 0, neighbors = None):\n",
        "        self.val = val\n",
        "        self.neighbors = neighbors if neighbors is not None else []\n",
        "\n",
        "def cloneGraph(node: Optional['Node']) -> Optional['Node']:\n",
        "\n",
        "    if not node:\n",
        "        return\n",
        "\n",
        "    old_to_new_map = defaultdict()\n",
        "    new_to_old_map = defaultdict()\n",
        "\n",
        "    nodes = [node]\n",
        "    while nodes:\n",
        "        curr = nodes.pop()\n",
        "        if curr:\n",
        "            new = Node(val=curr.val)\n",
        "            old_to_new_map[curr] = new\n",
        "            new_to_old_map[new] = curr\n",
        "            for neighbor in curr.neighbors:\n",
        "                if neighbor not in old_to_new_map:\n",
        "                    nodes.append(neighbor)\n",
        "\n",
        "    for old, new in old_to_new_map.items():\n",
        "        new.neighbors = [old_to_new_map[neighbor] for neighbor in new_to_old_map[new].neighbors]\n",
        "\n",
        "    return old_to_new_map[node]\n"
      ],
      "metadata": {
        "id": "xO6fe7Pg94tm"
      },
      "execution_count": null,
      "outputs": []
    },
    {
      "cell_type": "code",
      "source": [
        "# Rotting Oranges\n",
        "# https://leetcode.com/problems/rotting-oranges/description/\n",
        "# Time: O(m*n)\n",
        "# Space: O(m*n)\n",
        "\n",
        "from collections import deque\n",
        "def orangesRotting(grid: list[list[int]]) -> int:\n",
        "\n",
        "    m, n = len(grid), len(grid[0])\n",
        "    n_left = 0\n",
        "    t = -1\n",
        "    rotten_positions = deque()\n",
        "\n",
        "    # First pass\n",
        "    for i in range(m):\n",
        "        for j in range(n):\n",
        "            if grid[i][j] == 1:\n",
        "                n_left += 1\n",
        "            if grid[i][j] == 2:\n",
        "                rotten_positions.append((i, j))\n",
        "\n",
        "    if n_left == 0:\n",
        "        return 0\n",
        "\n",
        "    # BFS\n",
        "    while rotten_positions:\n",
        "        q_size = len(rotten_positions)\n",
        "        t += 1\n",
        "        for _ in range(q_size):\n",
        "            i, j = rotten_positions.popleft()\n",
        "            if grid[i][j] == 2:\n",
        "                for i_off, j_off in [(0, 1), (0, -1), (1, 0), (-1, 0)]:\n",
        "                    r, c  = i+i_off, j+j_off\n",
        "                    if 0 <= r < m and 0 <= c < n and grid[r][c] == 1:\n",
        "                        rotten_positions.append((r, c))\n",
        "                        n_left -= 1\n",
        "                        grid[r][c] = 2\n",
        "\n",
        "    if n_left == 0:\n",
        "        return t\n",
        "    return -1\n",
        "\n",
        "orangesRotting(grid = [[2,1,1],[1,1,0],[0,1,1]])"
      ],
      "metadata": {
        "colab": {
          "base_uri": "https://localhost:8080/"
        },
        "id": "sEGsgOH-JVVI",
        "outputId": "5ffc56db-afc8-4225-c76e-aa352024ce93"
      },
      "execution_count": null,
      "outputs": [
        {
          "output_type": "execute_result",
          "data": {
            "text/plain": [
              "4"
            ]
          },
          "metadata": {},
          "execution_count": 4
        }
      ]
    },
    {
      "cell_type": "markdown",
      "source": [
        "# DYNAMIC PROGRAMMING"
      ],
      "metadata": {
        "id": "D8J2vKI7_eqT"
      }
    },
    {
      "cell_type": "code",
      "source": [
        "# Climbing Stairs\n",
        "# https://leetcode.com/problems/climbing-stairs/description/\n",
        "# Time: O(n)\n",
        "# Space: O(n)\n",
        "\n",
        "def climbStairs(n: int) -> int:\n",
        "    if n == 1:\n",
        "        return 1\n",
        "    if n == 2:\n",
        "        return 2\n",
        "    dp = [0] * n\n",
        "    dp[0] = 1\n",
        "    dp[1] = 2\n",
        "\n",
        "    for i in range(2, n):\n",
        "        dp[i] = dp[i-1] + dp[i-2]\n",
        "\n",
        "    return dp[n-1]\n",
        "\n",
        "climbStairs(10)"
      ],
      "metadata": {
        "id": "42tn11A8OkzV",
        "colab": {
          "base_uri": "https://localhost:8080/"
        },
        "outputId": "3d942ec2-659a-4a21-cbcd-4f718ee53f27"
      },
      "execution_count": null,
      "outputs": [
        {
          "output_type": "execute_result",
          "data": {
            "text/plain": [
              "89"
            ]
          },
          "metadata": {},
          "execution_count": 1
        }
      ]
    },
    {
      "cell_type": "code",
      "source": [],
      "metadata": {
        "id": "pr-LPqPy_v3p"
      },
      "execution_count": null,
      "outputs": []
    }
  ]
}